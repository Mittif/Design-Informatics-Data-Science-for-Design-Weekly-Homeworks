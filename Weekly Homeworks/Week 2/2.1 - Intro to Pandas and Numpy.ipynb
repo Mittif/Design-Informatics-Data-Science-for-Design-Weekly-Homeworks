{
 "cells": [
  {
   "cell_type": "markdown",
   "metadata": {},
   "source": [
    "This is the notebook for the 2nd week. It will teach you some more advanced stuff than in the first one. This week you learn: \n",
    "* How to import modules\n",
    "* How to load a csv file\n",
    "* How to create a data frame with pandas from csv\n",
    "* How to filter rows in a data frame\n",
    "    * by index/name\n",
    "    * by conditions\n",
    "* How to filter columns in a data frame\n",
    "    * by index, \n",
    "    * by name, \n",
    "    * by condition\n",
    "* Numpy\n",
    "* Simple stats with numpy:\n",
    "    * avg, median, mode, variance\n",
    "    * standard deviation\n",
    "    * order lists\n",
    "    * find min/max"
   ]
  },
  {
   "cell_type": "markdown",
   "metadata": {
    "collapsed": true
   },
   "source": [
    "# Importing Modules"
   ]
  },
  {
   "cell_type": "markdown",
   "metadata": {},
   "source": [
    "A module is functionality that you import from another piece of code (library). Python provides a huge set of modules for all type of functionality: mathematics, statistics, importing and exporting data, visalization, etc. As there are so many modules available, only a tiny fraction of them are imported by default when you create a new python program in order to keep your program small and slick."
   ]
  },
  {
   "cell_type": "markdown",
   "metadata": {},
   "source": [
    "Here is how you import a module that gives your program the ability to import a csv file. Import statements have to be in the beginning of your files before you write any actual code.\n",
    "\n",
    "You import the `csv` module like so:"
   ]
  },
  {
   "cell_type": "code",
   "execution_count": 1,
   "metadata": {},
   "outputs": [],
   "source": [
    "import csv"
   ]
  },
  {
   "cell_type": "markdown",
   "metadata": {},
   "source": [
    "# Reading Files"
   ]
  },
  {
   "cell_type": "markdown",
   "metadata": {},
   "source": [
    "We can now load csv-files. More information on the csv package: https://docs.python.org/2/library/csv.html.\n",
    "\n",
    "The following code opens a csv file and saves its content into the variable `csvfile`. You can imagine this a large bulk of data. The `r` means that you are opening the file in reading-mode. Thus you cannot write the file. \n",
    "\n",
    "`with open('myfile.csv', 'r') as csvfile:`\n",
    "\n",
    "Next, we convert the file content in `csvfile` to something like a csv-format with rows and columns. Therefor we use the `reader` function from the module `csv`. The result is written into a variable we call `csvcontent` (again since it's a variable, you can name it whatever you want, if you use it consistently thereafter).\n",
    "\n",
    "`csvcontent = csv.reader(csvfile, delimiter=' ', quotechar='|')`\n",
    "\n",
    "The parameters `delimiter` and `quotechar` help python to understand how your csv file is formatted. In the current example, those parameters are set to space (for `delimiter`) and `|` (say \"pipe\") for `quotechar`. These values depend on your specific csv file and you take a look at the file to set these values correctly. But, what do they mean? \n",
    "\n",
    "**delimiter**: is the character (a single character on the keyboard) that separates values within a row. The follogin code shows an example from a csv file, opened in a text-editor. The delimiter is a comma `,`:\n",
    "\n",
    "`Name, Height, Shoe Size\n",
    "Devin, 175, 9\n",
    "Pela, 178, 8.5\n",
    "Jer, 182, 11`\n",
    "\n",
    "\n",
    "**quotechar**: is the character that encapsulates string values which may contain characters normally used as delimiter. In other words: if your csv file's delimiter is a `,`, then you cannot normaly use this comma in strings such as the following example: \n",
    "\n",
    "`Name, Loaction,\n",
    "Devin, Paris, Texas\n",
    "Marie, Paris`\n",
    "\n",
    "In this previous example, the string `Paris, Texas` is meant to designate a single location. However, python will think that the location is only `Paris` because `Paris` is followed by a `,`. \n",
    "\n",
    "In order to prevent these cases, we can use **quotechars**, such as `\"`:\n",
    "\n",
    "`Name, Loaction,\n",
    "Devin, \"Paris, Texas\"\n",
    "Marie, \"Paris\"`\n",
    "\n",
    "The `\"` tells python that is should ignore all `,` between two quotechar characters. However, you need to tell python which delimiter you are using. Technically you can use any character, e.g. `'`, `<`, `:`, `%`, '&'. \n",
    "\n",
    "After we have now successfully loaded the file content into our `csvcontent` variable, we can iterate through the rows in our data. `csvcontent` effectively is a list of rows. Each row itself is another list, hence `csvcontent` is a list of lists. \n",
    "\n",
    "The following code shows the full example loading a specific csv file with a `delimiter=' '` (the delimiter is a space character), and `quotechar='|'` (the pipe character).  After loading, the example iterates through all the rows (using the `for`-loop, and prints each row `r` it encounters.\n",
    "\n",
    "**NOTE** The differnt intendations: the second line has 1 tab intent because it is executed within the `with` block. The fourth row has 2 tabs intent because it is executed within the `for` block. Intendation is very imporant in pythohn. For more information on indentation, please read here: http://www.peachpit.com/articles/article.aspx?p=1312792&seqNum=3"
   ]
  },
  {
   "cell_type": "code",
   "execution_count": 6,
   "metadata": {},
   "outputs": [
    {
     "ename": "FileNotFoundError",
     "evalue": "[Errno 2] No such file or directory: 'myfile.csv'",
     "output_type": "error",
     "traceback": [
      "\u001b[0;31m---------------------------------------------------------------------------\u001b[0m",
      "\u001b[0;31mFileNotFoundError\u001b[0m                         Traceback (most recent call last)",
      "Cell \u001b[0;32mIn [6], line 1\u001b[0m\n\u001b[0;32m----> 1\u001b[0m \u001b[38;5;28;01mwith\u001b[39;00m \u001b[38;5;28mopen\u001b[39m(\u001b[38;5;124m'\u001b[39m\u001b[38;5;124mmyfile.csv\u001b[39m\u001b[38;5;124m'\u001b[39m, \u001b[38;5;124m'\u001b[39m\u001b[38;5;124mr\u001b[39m\u001b[38;5;124m'\u001b[39m) \u001b[38;5;28;01mas\u001b[39;00m csvfile:\n\u001b[1;32m      2\u001b[0m      csvcontent \u001b[38;5;241m=\u001b[39m csv\u001b[38;5;241m.\u001b[39mreader(csvfile, delimiter\u001b[38;5;241m=\u001b[39m\u001b[38;5;124m'\u001b[39m\u001b[38;5;124m \u001b[39m\u001b[38;5;124m'\u001b[39m, quotechar\u001b[38;5;241m=\u001b[39m\u001b[38;5;124m'\u001b[39m\u001b[38;5;124m|\u001b[39m\u001b[38;5;124m'\u001b[39m)\n\u001b[1;32m      3\u001b[0m      \u001b[38;5;28;01mfor\u001b[39;00m r \u001b[38;5;129;01min\u001b[39;00m csvcontent: \n",
      "\u001b[0;31mFileNotFoundError\u001b[0m: [Errno 2] No such file or directory: 'myfile.csv'"
     ]
    }
   ],
   "source": [
    "with open('myfile.csv', 'r') as csvfile:\n",
    "     csvcontent = csv.reader(csvfile, delimiter=' ', quotechar='|')\n",
    "     for r in csvcontent: \n",
    "         print(r)"
   ]
  },
  {
   "cell_type": "markdown",
   "metadata": {},
   "source": [
    "Now, import the file `gdp_per_capita.csv` and print all its rows:"
   ]
  },
  {
   "cell_type": "code",
   "execution_count": 2,
   "metadata": {},
   "outputs": [
    {
     "name": "stdout",
     "output_type": "stream",
     "text": [
      "['countries', '1950', '1955', '1960', '1965', '1970', '1975', '1980', '1985', '1990', '1995', '2000', '2005', '2010', '2015']\n",
      "['Afghanistan', '', '', '', '', '', '', '', '', '', '', '', '', '']\n",
      "['Brazil', '4297.82385399312', '3739.91938942857', '3693.27582014833', '3279.68639609452', '3584.07401646004', '3245.57315217104', '3154.72055184122', '2363.5112024022', '1613.13692305826', '1581.62542312949', '4716.61412549824', '3976.61916776916', '3696.14677192256']\n",
      "['China', '1864.10270222039', '1105.95255695671', '774.884634037432', '475.928869661473', '341.021293511227', '208.170863491313', '149.66006823476', '128.934979893935', '99.0801230616385', '72.3249273149585', '2426.33246633954', '1464.10762700312', '949.178062082992']\n",
      "['Germany', '25297.3853934236', '23217.3320270132', '21502.7214441946', '20685.689979311', '17636.8306336143', '15810.553192641', '14545.4282572055', '12711.1567623386', '', '', '25420.2757175313', '23564.3851678751', '22945.7088501507']\n",
      "['Iran', '2125.03025238419', '1679.66439805233', '1484.66602266377', '1445.852455639', '1241.64750201368', '1477.01185152704', '2204.42045612243', '1793.57465688276', '1117.21826803939', '', '', '1906.59005390127', '1550.09060785641']\n",
      "['Japan', '40837.2666435385', '37363.287444285', '37518.5808584411', '35465.9254442694', '29064.2223585816', '24444.2017433701', '20680.6574101979', '18398.7211836064', '13726.0626551855', '9157.32330862219', '39971.7874534425', '39295.3062039741', '37291.7061580448']\n",
      "['Malawi', '157.621367614219', '142.391447858489', '155.373892404938', '129.360235983862', '138.371882570601', '147.791025339285', '153.275311906547', '140.893352705692', '126.008610334396', '101.996530434011', '180.902295640664', '149.484329878294', '155.271544474367']\n",
      "['Russia', '2888.84735487466', '1967.5186024261', '1590.69649953949', '2106.22376150602', '', '', '', '', '', '', '2928.00503306304', '2442.96296613797', '1775.14129079602']\n",
      "['United Kingdom', '29771.3033482292', '26214.9673501074', '22732.5384659765', '19721.7386415673', '18699.0358062236', '15734.1806453541', '15060.0702804856', '13682.0984768808', '11645.43154074', '10253.5937022019', '28244.3369362973', '28354.0395830577', '25057.613530497']\n",
      "['United States', '38710.8854415369', '35427.9099644915', '31831.4615941853', '28401.4651758974', '26549.8760217244', '22310.2393685234', '21491.8201766949', '19441.3799078951', '17374.536484084', '14426.7577149129', '37329.6159138676', '37718.0053665793', '35081.9230843615']\n"
     ]
    }
   ],
   "source": [
    "with open('gdp_per_capita.csv', 'r')as csvfile:\n",
    "    csvcontent = csv.reader(csvfile, delimiter = ',', quotechar='|')\n",
    "    #r means rows print by rows\n",
    "    for r in csvcontent:\n",
    "        print(r)"
   ]
  },
  {
   "cell_type": "markdown",
   "metadata": {},
   "source": [
    "This file contains numeric data. However, by default, Python thinks the numbers are strings, not actual numbers. That means that you cannot tell python to run statistics and other mathematical functions on it. Before continuing, we need to convert all the strings into numbers. Here is how we do that:\n",
    "* iterate through all cells with a nested loop (remember last class)\n",
    "* convert values to number with the int() function (remember last class)\n",
    "\n",
    "Now, here is how you iterate through all cells---we already said that the `csvcontent` is a list of lists. Hence, in order to iterate through all cells, we need two loop functions one inside the other:"
   ]
  },
  {
   "cell_type": "code",
   "execution_count": 3,
   "metadata": {},
   "outputs": [
    {
     "name": "stdout",
     "output_type": "stream",
     "text": [
      "['countries', 1950, 1955, 1960, 1965, 1970, 1975, 1980, 1985, 1990, 1995, 2000, 2005, 2010, 2015]\n",
      "['Afghanistan', 0, 0, 0, 0, 0, 0, 0, 0, 0, 0, 0, 0, 0]\n",
      "['Brazil', 4297, 3739, 3693, 3279, 3584, 3245, 3154, 2363, 1613, 1581, 4716, 3976, 3696]\n",
      "['China', 1864, 1105, 774, 475, 341, 208, 149, 128, 99, 72, 2426, 1464, 949]\n",
      "['Germany', 25297, 23217, 21502, 20685, 17636, 15810, 14545, 12711, 0, 0, 25420, 23564, 22945]\n",
      "['Iran', 2125, 1679, 1484, 1445, 1241, 1477, 2204, 1793, 1117, 0, 0, 1906, 1550]\n",
      "['Japan', 40837, 37363, 37518, 35465, 29064, 24444, 20680, 18398, 13726, 9157, 39971, 39295, 37291]\n",
      "['Malawi', 157, 142, 155, 129, 138, 147, 153, 140, 126, 101, 180, 149, 155]\n",
      "['Russia', 2888, 1967, 1590, 2106, 0, 0, 0, 0, 0, 0, 2928, 2442, 1775]\n",
      "['United Kingdom', 29771, 26214, 22732, 19721, 18699, 15734, 15060, 13682, 11645, 10253, 28244, 28354, 25057]\n",
      "['United States', 38710, 35427, 31831, 28401, 26549, 22310, 21491, 19441, 17374, 14426, 37329, 37718, 35081]\n"
     ]
    }
   ],
   "source": [
    "# Template for iterating through all the values in a file\n",
    "with open('gdp_per_capita.csv', 'r') as csvfile:\n",
    "    csvcontent = csv.reader(csvfile, delimiter=',', quotechar='|')\n",
    "    for row in csvcontent: # Go through each row\n",
    "        # Do anything you need to do per row...\n",
    "        newRow = []\n",
    "        for value in row: # Now go through the values for each row\n",
    "            #Do anything you need to do to each value\n",
    "            try:\n",
    "                newRow.append(int(value))\n",
    "            except:\n",
    "                try:\n",
    "                    newRow.append(int(float(value)))\n",
    "                except:\n",
    "                    if value == '':\n",
    "                        newRow.append(0)\n",
    "                    else:\n",
    "                        newRow.append(value)\n",
    "        print(newRow)"
   ]
  },
  {
   "cell_type": "markdown",
   "metadata": {},
   "source": [
    "# Exercise\n",
    "\n",
    "In order to make this work, we have to make sure it is reading the file correctly - in this case, the file uses commas (`,`) in between fields, so you have to pass that as an argument to `csv.reader`, to make sure the data is split up correctly. So, write a program that uses the template above to print out each cell on its own line. You should get output like:\n",
    "```\n",
    "countries\n",
    "1950\n",
    "1955\n",
    "1960\n",
    "1965\n",
    "1970\n",
    "1975\n",
    "1980\n",
    "1985\n",
    "1990\n",
    "1995\n",
    "2000\n",
    "2005\n",
    "2010\n",
    "2015\n",
    "Afghanistan\n",
    "```\n",
    "\n",
    "If you don't get each year on a separate line, then you are not splitting up the cells properly!"
   ]
  },
  {
   "cell_type": "code",
   "execution_count": 4,
   "metadata": {},
   "outputs": [
    {
     "name": "stdout",
     "output_type": "stream",
     "text": [
      "countries\n",
      "1950\n",
      "1955\n",
      "1960\n",
      "1965\n",
      "1970\n",
      "1975\n",
      "1980\n",
      "1985\n",
      "1990\n",
      "1995\n",
      "2000\n",
      "2005\n",
      "2010\n",
      "2015\n",
      "Afghanistan\n",
      "\n",
      "\n",
      "\n",
      "\n",
      "\n",
      "\n",
      "\n",
      "\n",
      "\n",
      "\n",
      "\n",
      "\n",
      "\n",
      "Brazil\n",
      "4297.82385399312\n",
      "3739.91938942857\n",
      "3693.27582014833\n",
      "3279.68639609452\n",
      "3584.07401646004\n",
      "3245.57315217104\n",
      "3154.72055184122\n",
      "2363.5112024022\n",
      "1613.13692305826\n",
      "1581.62542312949\n",
      "4716.61412549824\n",
      "3976.61916776916\n",
      "3696.14677192256\n",
      "China\n",
      "1864.10270222039\n",
      "1105.95255695671\n",
      "774.884634037432\n",
      "475.928869661473\n",
      "341.021293511227\n",
      "208.170863491313\n",
      "149.66006823476\n",
      "128.934979893935\n",
      "99.0801230616385\n",
      "72.3249273149585\n",
      "2426.33246633954\n",
      "1464.10762700312\n",
      "949.178062082992\n",
      "Germany\n",
      "25297.3853934236\n",
      "23217.3320270132\n",
      "21502.7214441946\n",
      "20685.689979311\n",
      "17636.8306336143\n",
      "15810.553192641\n",
      "14545.4282572055\n",
      "12711.1567623386\n",
      "\n",
      "\n",
      "25420.2757175313\n",
      "23564.3851678751\n",
      "22945.7088501507\n",
      "Iran\n",
      "2125.03025238419\n",
      "1679.66439805233\n",
      "1484.66602266377\n",
      "1445.852455639\n",
      "1241.64750201368\n",
      "1477.01185152704\n",
      "2204.42045612243\n",
      "1793.57465688276\n",
      "1117.21826803939\n",
      "\n",
      "\n",
      "1906.59005390127\n",
      "1550.09060785641\n",
      "Japan\n",
      "40837.2666435385\n",
      "37363.287444285\n",
      "37518.5808584411\n",
      "35465.9254442694\n",
      "29064.2223585816\n",
      "24444.2017433701\n",
      "20680.6574101979\n",
      "18398.7211836064\n",
      "13726.0626551855\n",
      "9157.32330862219\n",
      "39971.7874534425\n",
      "39295.3062039741\n",
      "37291.7061580448\n",
      "Malawi\n",
      "157.621367614219\n",
      "142.391447858489\n",
      "155.373892404938\n",
      "129.360235983862\n",
      "138.371882570601\n",
      "147.791025339285\n",
      "153.275311906547\n",
      "140.893352705692\n",
      "126.008610334396\n",
      "101.996530434011\n",
      "180.902295640664\n",
      "149.484329878294\n",
      "155.271544474367\n",
      "Russia\n",
      "2888.84735487466\n",
      "1967.5186024261\n",
      "1590.69649953949\n",
      "2106.22376150602\n",
      "\n",
      "\n",
      "\n",
      "\n",
      "\n",
      "\n",
      "2928.00503306304\n",
      "2442.96296613797\n",
      "1775.14129079602\n",
      "United Kingdom\n",
      "29771.3033482292\n",
      "26214.9673501074\n",
      "22732.5384659765\n",
      "19721.7386415673\n",
      "18699.0358062236\n",
      "15734.1806453541\n",
      "15060.0702804856\n",
      "13682.0984768808\n",
      "11645.43154074\n",
      "10253.5937022019\n",
      "28244.3369362973\n",
      "28354.0395830577\n",
      "25057.613530497\n",
      "United States\n",
      "38710.8854415369\n",
      "35427.9099644915\n",
      "31831.4615941853\n",
      "28401.4651758974\n",
      "26549.8760217244\n",
      "22310.2393685234\n",
      "21491.8201766949\n",
      "19441.3799078951\n",
      "17374.536484084\n",
      "14426.7577149129\n",
      "37329.6159138676\n",
      "37718.0053665793\n",
      "35081.9230843615\n"
     ]
    }
   ],
   "source": [
    "# Your code here\n",
    "with open('gdp_per_capita.csv', 'r') as csvfile:\n",
    "    csvcontent = csv.reader(csvfile, delimiter=',', quotechar='|')\n",
    "    for row in csvcontent:\n",
    "        for value in row:\n",
    "            print(value)"
   ]
  },
  {
   "cell_type": "markdown",
   "metadata": {},
   "source": [
    "# Using the data\n",
    "\n",
    "There are two more issues:\n",
    "\n",
    "### Working with headers\n",
    "\n",
    "The file you just loaded contains a row for for each country, with the first row contining the headers of the file. The first entry in each row shows the country name, the following three rows show the countries' GPD for the years 1950, 1955, and 1960.  The structure is similar to what you might see in a spreadsheet table.\n",
    "\n",
    "This means that the first row doesn't have numbers in, so you don't want to covert any data in the first row - just use it as-is.\n",
    "\n",
    "### Cleaning data\n",
    "Never trust your data: in most cases, there are glitches, errors, and missing data in your file that require to be fixed before you can convert your data into some form of analyzable object in python. Such glitches may be a misplaced comma or other characters, misspelled entries, or differently formatted dates.  Sometimes certain irregularities are there on purpose.\n",
    "\n",
    "For example, the first row (`Afghanistan`) does not contain any values. They are missing and empty. Some values in the other rows are also missing. Be aware of this when you iteratate through rows and check for values, and skip any values that are not numbers."
   ]
  },
  {
   "cell_type": "markdown",
   "metadata": {},
   "source": [
    "# Putting it together\n",
    "\n",
    "### Note: don't spend too long on this!\n",
    "This is the hard way to do things, to give you experience in working with loops. If you're struggling, skip on to the Pandas section afterwards, because Pandas does a lot of this work for you.\n",
    "\n",
    "## Specification\n",
    "Write a program that extracts the data from the file. It should produce a list, where each item represents a row. Each of these rows is another list that contains the data for each field in the row. If the row is a number, then convert it to a number, otherwise leave it as a string.\n",
    "\n",
    "Do this by splitting it into two parts: first, figure out how to get your data into the right shape - a list of lists. Then, figure out how to convert the values to the right types:\n",
    "\n",
    "## First part - data shape \n",
    "\n",
    "* create a new list that will contain your data\n",
    "* iterate through all rows - for each row, create a list in a variable called `newRow`. This will contain the data for that row.\n",
    "* for each row, iterate through each of the values, and add it to the `newRow` list using append.\n",
    "* after you have iterated over all values in one row, append the `newRow` to the `data` list.\n",
    "\n",
    "When you print the final data structure, it should look like this:\n",
    "```\n",
    "[['countries', '1950', '1955', '1960', '1965', '1970', '1975', '1980', '1985', '1990', '1995', '2000', '2005', '2010', '2015'], ['Afghanistan', '', '', '', '', '', '', '', '', '', '', '', '', ''], ['Brazil', '4297.82385399312', '3739.91938942857', '3693.27582014833', '3279.68639609452', '3584.07401646004', '3245.57315217104', '3154.72055184122', '2363.5112024022'\n",
    "```\n",
    "\n",
    "Things to note:\n",
    "* The double square brackets (`[[`) at the beginning show that it is a list of lists\n",
    "* The single quotes (`'`) show that each of the bits of data is a string, not a number"
   ]
  },
  {
   "cell_type": "code",
   "execution_count": 9,
   "metadata": {},
   "outputs": [
    {
     "name": "stdout",
     "output_type": "stream",
     "text": [
      "[['countries', '1950', '1955', '1960', '1965', '1970', '1975', '1980', '1985', '1990', '1995', '2000', '2005', '2010', '2015'], ['Afghanistan', '', '', '', '', '', '', '', '', '', '', '', '', ''], ['Brazil', '4297.82385399312', '3739.91938942857', '3693.27582014833', '3279.68639609452', '3584.07401646004', '3245.57315217104', '3154.72055184122', '2363.5112024022', '1613.13692305826', '1581.62542312949', '4716.61412549824', '3976.61916776916', '3696.14677192256'], ['China', '1864.10270222039', '1105.95255695671', '774.884634037432', '475.928869661473', '341.021293511227', '208.170863491313', '149.66006823476', '128.934979893935', '99.0801230616385', '72.3249273149585', '2426.33246633954', '1464.10762700312', '949.178062082992'], ['Germany', '25297.3853934236', '23217.3320270132', '21502.7214441946', '20685.689979311', '17636.8306336143', '15810.553192641', '14545.4282572055', '12711.1567623386', '', '', '25420.2757175313', '23564.3851678751', '22945.7088501507'], ['Iran', '2125.03025238419', '1679.66439805233', '1484.66602266377', '1445.852455639', '1241.64750201368', '1477.01185152704', '2204.42045612243', '1793.57465688276', '1117.21826803939', '', '', '1906.59005390127', '1550.09060785641'], ['Japan', '40837.2666435385', '37363.287444285', '37518.5808584411', '35465.9254442694', '29064.2223585816', '24444.2017433701', '20680.6574101979', '18398.7211836064', '13726.0626551855', '9157.32330862219', '39971.7874534425', '39295.3062039741', '37291.7061580448'], ['Malawi', '157.621367614219', '142.391447858489', '155.373892404938', '129.360235983862', '138.371882570601', '147.791025339285', '153.275311906547', '140.893352705692', '126.008610334396', '101.996530434011', '180.902295640664', '149.484329878294', '155.271544474367'], ['Russia', '2888.84735487466', '1967.5186024261', '1590.69649953949', '2106.22376150602', '', '', '', '', '', '', '2928.00503306304', '2442.96296613797', '1775.14129079602'], ['United Kingdom', '29771.3033482292', '26214.9673501074', '22732.5384659765', '19721.7386415673', '18699.0358062236', '15734.1806453541', '15060.0702804856', '13682.0984768808', '11645.43154074', '10253.5937022019', '28244.3369362973', '28354.0395830577', '25057.613530497'], ['United States', '38710.8854415369', '35427.9099644915', '31831.4615941853', '28401.4651758974', '26549.8760217244', '22310.2393685234', '21491.8201766949', '19441.3799078951', '17374.536484084', '14426.7577149129', '37329.6159138676', '37718.0053665793', '35081.9230843615']]\n"
     ]
    }
   ],
   "source": [
    "data = []\n",
    "# Your code here\n",
    "with open('gdp_per_capita.csv', 'r') as csvfile:\n",
    "    csvcontent = csv.reader(csvfile, delimiter=',', quotechar='|')\n",
    "    for row in csvcontent:\n",
    "        newRow = []\n",
    "        for value in row:\n",
    "            newRow.append(value)\n",
    "        data.append(newRow)\n",
    "print(data)"
   ]
  },
  {
   "cell_type": "markdown",
   "metadata": {},
   "source": [
    "## Second part - cleaning data\n",
    "\n",
    "We'd like to change this program so that it turns the cells into numbers rather than strings - this means that we can do maths with them, like adding them up or computing averages. We can do this with `float()` or `int()`  depending on whether we want floating point numbers (for the GDP) or whole numbers (for the years).\n",
    "\n",
    "Start from the same code, and then for each cell convert it to a number if that's the right thing to do. There are two approaches to this:\n",
    "- you can use the structure of the file to keep track of which row and column you are on, and avoid converting the first entry in each row (the country names) to a number, and convert the years to integers as they should be\n",
    "- you can ask Python to have a go at converting the data, using `try ... catch` and then do something sensible if it fails.\n",
    "\n",
    "then iterate through all values in that row, using two nested loops (remember last class)\n",
    "* inside the first loop, i.e. for each new row you find, create a variable that is called `newRow`. This will contain your clean data for that row. Also, create a variable `counter` that counts which value in the row you are parsing. Remember that you need to convert all but the first value, which contains the contry name and cannot be converted to a float.\n",
    "* in the second loop, the place where you iterate over each value in that row, you need to make 2 decissions: 1) is this value the first (i.e. `counter == 0`) and if this value is empty `v==''`. If any of these is the case, simply append the value `v` to your `newRow`. In any other cases, append the converted value `float(v)`.\n",
    "* don't forget to increment the `counter` by `1` after each value you have processed: `counter = counter+1`\n",
    "\n",
    "Eventually, after you have done all the conversions, print `data`. \n",
    "\n",
    "You should get something like the folowing (although it will change a bit based on decisions that you make with the code).\n",
    "`[['countries', 1950.0, 1955.0, 1960.0, 1965.0, 1970.0, 1975.0, 1980.0, 1985.0, 1990.0, 1995.0, 2000.0, 2005.0, 2010.0, 2015.0], ['Afghanistan', '', '', '', '', '', '', '', '', '', '', '', '', ''], ['Brazil', `"
   ]
  },
  {
   "cell_type": "code",
   "execution_count": 10,
   "metadata": {
    "scrolled": true
   },
   "outputs": [
    {
     "name": "stdout",
     "output_type": "stream",
     "text": [
      "[['countries', 1950.0, 1955.0, 1960.0, 1965.0, 1970.0, 1975.0, 1980.0, 1985.0, 1990.0, 1995.0, 2000.0, 2005.0, 2010.0, 2015.0], ['Afghanistan', 0.0, 0.0, 0.0, 0.0, 0.0, 0.0, 0.0, 0.0, 0.0, 0.0, 0.0, 0.0, 0.0], ['Brazil', 4297.0, 3739.0, 3693.0, 3279.0, 3584.0, 3245.0, 3154.0, 2363.0, 1613.0, 1581.0, 4716.0, 3976.0, 3696.0], ['China', 1864.0, 1105.0, 774.0, 475.0, 341.0, 208.0, 149.0, 128.0, 99.0, 72.0, 2426.0, 1464.0, 949.0], ['Germany', 25297.0, 23217.0, 21502.0, 20685.0, 17636.0, 15810.0, 14545.0, 12711.0, 0.0, 0.0, 25420.0, 23564.0, 22945.0], ['Iran', 2125.0, 1679.0, 1484.0, 1445.0, 1241.0, 1477.0, 2204.0, 1793.0, 1117.0, 0.0, 0.0, 1906.0, 1550.0], ['Japan', 40837.0, 37363.0, 37518.0, 35465.0, 29064.0, 24444.0, 20680.0, 18398.0, 13726.0, 9157.0, 39971.0, 39295.0, 37291.0], ['Malawi', 157.0, 142.0, 155.0, 129.0, 138.0, 147.0, 153.0, 140.0, 126.0, 101.0, 180.0, 149.0, 155.0], ['Russia', 2888.0, 1967.0, 1590.0, 2106.0, 0.0, 0.0, 0.0, 0.0, 0.0, 0.0, 2928.0, 2442.0, 1775.0], ['United Kingdom', 29771.0, 26214.0, 22732.0, 19721.0, 18699.0, 15734.0, 15060.0, 13682.0, 11645.0, 10253.0, 28244.0, 28354.0, 25057.0], ['United States', 38710.0, 35427.0, 31831.0, 28401.0, 26549.0, 22310.0, 21491.0, 19441.0, 17374.0, 14426.0, 37329.0, 37718.0, 35081.0]]\n"
     ]
    }
   ],
   "source": [
    "# your code here\n",
    "with open('gdp_per_capita.csv', 'r') as csvfile:\n",
    "    csvcontent = csv.reader(csvfile, delimiter=',', quotechar='|')\n",
    "    data = []\n",
    "    for row in csvcontent:\n",
    "        newRow = []\n",
    "        for value in row:\n",
    "            try:\n",
    "                value = float(value)\n",
    "                value = value // 1\n",
    "            except:\n",
    "                if value == '':\n",
    "                    value = 0.0\n",
    "            newRow.append(value)\n",
    "        data.append(newRow)\n",
    "    print (data)\n"
   ]
  },
  {
   "cell_type": "markdown",
   "metadata": {},
   "source": [
    "# Pandas"
   ]
  },
  {
   "cell_type": "markdown",
   "metadata": {},
   "source": [
    "Pandas (http://pandas.pydata.org) is a python module that provides you with convenient methods to manipulate, filter, and aggregate complexer data in table format. The central structure in pandas is called `dataframe`. A dataframe is a table representation of your data like in the previous example, but with a lot of functionality."
   ]
  },
  {
   "cell_type": "markdown",
   "metadata": {},
   "source": [
    "## Importing and Creating Dataframes"
   ]
  },
  {
   "cell_type": "markdown",
   "metadata": {},
   "source": [
    "First, we need to import the pandas module. \n",
    "When importing a module, you can give it an abbreviation, as some of the modules can have long names. Abbreviations are indicated with the `as` keyword after the `import modulename`:\n",
    "`import mymodulename as myabbreviation`. \n",
    "\n",
    "In the following, we want to import the `pandas` module while using the abbreviation `pd`:"
   ]
  },
  {
   "cell_type": "code",
   "execution_count": 7,
   "metadata": {},
   "outputs": [],
   "source": [
    "import pandas as pd"
   ]
  },
  {
   "cell_type": "markdown",
   "metadata": {},
   "source": [
    "`pd` is the standard abbrevation for pandas and which is used in most online tutorials."
   ]
  },
  {
   "cell_type": "markdown",
   "metadata": {},
   "source": [
    "Now, let's load our csv file into a data frame. Pandas already comes with its own csv-import function that returns a dataframe:\n",
    "\n",
    "`pd.read_csv('somefile.csv')`"
   ]
  },
  {
   "cell_type": "markdown",
   "metadata": {},
   "source": [
    "Load the data file `gdp_per_capita.csv` and put the results in a variable called `myDataFrame`. Print `myDataFrame` to be sure it's properly loaded."
   ]
  },
  {
   "cell_type": "code",
   "execution_count": 11,
   "metadata": {
    "scrolled": true
   },
   "outputs": [
    {
     "name": "stdout",
     "output_type": "stream",
     "text": [
      "        countries          1950          1955          1960          1965  \\\n",
      "0     Afghanistan           NaN           NaN           NaN           NaN   \n",
      "1          Brazil   4297.823854   3739.919389   3693.275820   3279.686396   \n",
      "2           China   1864.102702   1105.952557    774.884634    475.928870   \n",
      "3         Germany  25297.385393  23217.332027  21502.721444  20685.689979   \n",
      "4            Iran   2125.030252   1679.664398   1484.666023   1445.852456   \n",
      "5           Japan  40837.266644  37363.287444  37518.580858  35465.925444   \n",
      "6          Malawi    157.621368    142.391448    155.373892    129.360236   \n",
      "7          Russia   2888.847355   1967.518602   1590.696500   2106.223762   \n",
      "8  United Kingdom  29771.303348  26214.967350  22732.538466  19721.738642   \n",
      "9   United States  38710.885442  35427.909964  31831.461594  28401.465176   \n",
      "\n",
      "           1970          1975          1980          1985          1990  \\\n",
      "0           NaN           NaN           NaN           NaN           NaN   \n",
      "1   3584.074016   3245.573152   3154.720552   2363.511202   1613.136923   \n",
      "2    341.021294    208.170863    149.660068    128.934980     99.080123   \n",
      "3  17636.830634  15810.553193  14545.428257  12711.156762           NaN   \n",
      "4   1241.647502   1477.011852   2204.420456   1793.574657   1117.218268   \n",
      "5  29064.222359  24444.201743  20680.657410  18398.721184  13726.062655   \n",
      "6    138.371883    147.791025    153.275312    140.893353    126.008610   \n",
      "7           NaN           NaN           NaN           NaN           NaN   \n",
      "8  18699.035806  15734.180645  15060.070280  13682.098477  11645.431541   \n",
      "9  26549.876022  22310.239369  21491.820177  19441.379908  17374.536484   \n",
      "\n",
      "           1995          2000          2005          2010  2015  \n",
      "0           NaN           NaN           NaN           NaN   NaN  \n",
      "1   1581.625423   4716.614125   3976.619168   3696.146772   NaN  \n",
      "2     72.324927   2426.332466   1464.107627    949.178062   NaN  \n",
      "3           NaN  25420.275718  23564.385168  22945.708850   NaN  \n",
      "4           NaN           NaN   1906.590054   1550.090608   NaN  \n",
      "5   9157.323309  39971.787453  39295.306204  37291.706158   NaN  \n",
      "6    101.996530    180.902296    149.484330    155.271544   NaN  \n",
      "7           NaN   2928.005033   2442.962966   1775.141291   NaN  \n",
      "8  10253.593702  28244.336936  28354.039583  25057.613530   NaN  \n",
      "9  14426.757715  37329.615914  37718.005367  35081.923084   NaN  \n"
     ]
    }
   ],
   "source": [
    "myDataFrame = pd.read_csv('gdp_per_capita.csv')\n",
    "print (myDataFrame)"
   ]
  },
  {
   "cell_type": "markdown",
   "metadata": {},
   "source": [
    "You should see a a table like this: "
   ]
  },
  {
   "cell_type": "raw",
   "metadata": {},
   "source": [
    "  countries          1950          1955          1960\n",
    "0    Brazil   4297.823854   3739.919389   3693.275820\n",
    "1     China   1864.102702   1105.952557    774.884634\n",
    "2   Germany  25297.385393  23217.332027  21502.721444"
   ]
  },
  {
   "cell_type": "markdown",
   "metadata": {},
   "source": [
    "Now, its time to load all the data. Load the file `gpd_per_capita.csv` and print the entire table."
   ]
  },
  {
   "cell_type": "markdown",
   "metadata": {},
   "source": [
    "As already mentioned, dataframes are complex but sophisticated objects. So far, we have called functions from python directly (e.g. `print()`, `len()`) or on modules (`csv.reader()`). Sometimes, we can also call methods on objects, such as the DataFrame-object. E.g. the following two methods can be called on any variable that is a `DataFrame` object: \n",
    "\n",
    "* `DataFrame.head()`: shows the 5 first rows\n",
    "* `DataFrame.tail()`: shows the 5 last rows\n",
    "\n",
    "Can you try that for our dataframe? Replace the `DataFrame` part int the above examples by the name of our DataFrame-variable."
   ]
  },
  {
   "cell_type": "code",
   "execution_count": 12,
   "metadata": {},
   "outputs": [
    {
     "name": "stdout",
     "output_type": "stream",
     "text": [
      "<class 'pandas.core.frame.DataFrame'>\n",
      "5 first rows\n",
      "\n",
      "     countries          1950          1955          1960          1965  \\\n",
      "0  Afghanistan           NaN           NaN           NaN           NaN   \n",
      "1       Brazil   4297.823854   3739.919389   3693.275820   3279.686396   \n",
      "2        China   1864.102702   1105.952557    774.884634    475.928870   \n",
      "3      Germany  25297.385393  23217.332027  21502.721444  20685.689979   \n",
      "4         Iran   2125.030252   1679.664398   1484.666023   1445.852456   \n",
      "\n",
      "           1970          1975          1980          1985         1990  \\\n",
      "0           NaN           NaN           NaN           NaN          NaN   \n",
      "1   3584.074016   3245.573152   3154.720552   2363.511202  1613.136923   \n",
      "2    341.021294    208.170863    149.660068    128.934980    99.080123   \n",
      "3  17636.830634  15810.553193  14545.428257  12711.156762          NaN   \n",
      "4   1241.647502   1477.011852   2204.420456   1793.574657  1117.218268   \n",
      "\n",
      "          1995          2000          2005          2010  2015  \n",
      "0          NaN           NaN           NaN           NaN   NaN  \n",
      "1  1581.625423   4716.614125   3976.619168   3696.146772   NaN  \n",
      "2    72.324927   2426.332466   1464.107627    949.178062   NaN  \n",
      "3          NaN  25420.275718  23564.385168  22945.708850   NaN  \n",
      "4          NaN           NaN   1906.590054   1550.090608   NaN  \n",
      "5 last rows\n",
      "\n",
      "        countries          1950          1955          1960          1965  \\\n",
      "5           Japan  40837.266644  37363.287444  37518.580858  35465.925444   \n",
      "6          Malawi    157.621368    142.391448    155.373892    129.360236   \n",
      "7          Russia   2888.847355   1967.518602   1590.696500   2106.223762   \n",
      "8  United Kingdom  29771.303348  26214.967350  22732.538466  19721.738642   \n",
      "9   United States  38710.885442  35427.909964  31831.461594  28401.465176   \n",
      "\n",
      "           1970          1975          1980          1985          1990  \\\n",
      "5  29064.222359  24444.201743  20680.657410  18398.721184  13726.062655   \n",
      "6    138.371883    147.791025    153.275312    140.893353    126.008610   \n",
      "7           NaN           NaN           NaN           NaN           NaN   \n",
      "8  18699.035806  15734.180645  15060.070280  13682.098477  11645.431541   \n",
      "9  26549.876022  22310.239369  21491.820177  19441.379908  17374.536484   \n",
      "\n",
      "           1995          2000          2005          2010  2015  \n",
      "5   9157.323309  39971.787453  39295.306204  37291.706158   NaN  \n",
      "6    101.996530    180.902296    149.484330    155.271544   NaN  \n",
      "7           NaN   2928.005033   2442.962966   1775.141291   NaN  \n",
      "8  10253.593702  28244.336936  28354.039583  25057.613530   NaN  \n",
      "9  14426.757715  37329.615914  37718.005367  35081.923084   NaN  \n"
     ]
    }
   ],
   "source": [
    "myDataFrame = pd.read_csv('gdp_per_capita.csv')\n",
    "print(type(myDataFrame))\n",
    "print('5 first rows\\n')\n",
    "print(myDataFrame.head())\n",
    "print('5 last rows\\n')\n",
    "print(myDataFrame.tail())\n"
   ]
  },
  {
   "cell_type": "markdown",
   "metadata": {},
   "source": [
    "There are some simple metrics we can calculate about the data frame, using the following functions:\n",
    "* `DataFrame.shape`: returns the numbers of rows and columns in the data frame in the format (rows, columns)\n",
    "* `list(DataFrame.columns)`: returns all the column names"
   ]
  },
  {
   "cell_type": "markdown",
   "metadata": {},
   "source": [
    "_How many rows and columns does our DataFrame have?_"
   ]
  },
  {
   "cell_type": "code",
   "execution_count": 13,
   "metadata": {},
   "outputs": [
    {
     "name": "stdout",
     "output_type": "stream",
     "text": [
      "(10, 15)\n"
     ]
    }
   ],
   "source": [
    "print(myDataFrame.shape)"
   ]
  },
  {
   "cell_type": "markdown",
   "metadata": {},
   "source": [
    "_Can you output all the column names?_ "
   ]
  },
  {
   "cell_type": "code",
   "execution_count": 14,
   "metadata": {},
   "outputs": [
    {
     "name": "stdout",
     "output_type": "stream",
     "text": [
      "['countries', '1950', '1955', '1960', '1965', '1970', '1975', '1980', '1985', '1990', '1995', '2000', '2005', '2010', '2015']\n"
     ]
    }
   ],
   "source": [
    "print(list(myDataFrame.columns))"
   ]
  },
  {
   "cell_type": "markdown",
   "metadata": {},
   "source": [
    "_Can you output just the years from the column names_"
   ]
  },
  {
   "cell_type": "code",
   "execution_count": 15,
   "metadata": {},
   "outputs": [
    {
     "name": "stdout",
     "output_type": "stream",
     "text": [
      "['1950', '1955', '1960', '1965', '1970', '1975', '1980', '1985', '1990', '1995', '2000', '2005', '2010', '2015']\n"
     ]
    }
   ],
   "source": [
    "columnsList = list(myDataFrame.columns)\n",
    "del columnsList[0]\n",
    "print (columnsList)"
   ]
  },
  {
   "cell_type": "markdown",
   "metadata": {},
   "source": [
    "## Selecting Rows and Columns"
   ]
  },
  {
   "cell_type": "markdown",
   "metadata": {},
   "source": [
    "Now, we want to filter rows and columns to calculate statistics on the values and create visualizations later on. There are a couple of functions for selecting values and set of values in a DataFrame: \n",
    "\n",
    "* `DataFrame['mycolumnname']`: Selects the column with the name `columnname` in the column title (pay attention to the single quotes and squared brackets).\n",
    "* `DataFrame[startrow:endrow]`: Selects all rows between `start` and `end`. \n",
    "* `DataFrame.loc['mylabel']`: Selects the row with the label `label`\n",
    "* `DataFrame.iloc[...]`: Selecting rows and columns by index.\n",
    "\n",
    "We will exercise each of these functions individually in the following.\n",
    "More information here: https://pandas.pydata.org/pandas-docs/stable/indexing.html#indexing"
   ]
  },
  {
   "cell_type": "markdown",
   "metadata": {},
   "source": [
    "### Selecting columns\n",
    "\n",
    "A single column is selected through `DataFrame['columnname']`. In our example, selecting columns means selecting individual years or ranges of years. "
   ]
  },
  {
   "cell_type": "markdown",
   "metadata": {},
   "source": [
    "_Can you select the colum for the year 1955?_"
   ]
  },
  {
   "cell_type": "code",
   "execution_count": 16,
   "metadata": {
    "scrolled": true
   },
   "outputs": [
    {
     "data": {
      "text/plain": [
       "0             NaN\n",
       "1     3739.919389\n",
       "2     1105.952557\n",
       "3    23217.332027\n",
       "4     1679.664398\n",
       "5    37363.287444\n",
       "6      142.391448\n",
       "7     1967.518602\n",
       "8    26214.967350\n",
       "9    35427.909964\n",
       "Name: 1955, dtype: float64"
      ]
     },
     "execution_count": 16,
     "metadata": {},
     "output_type": "execute_result"
    }
   ],
   "source": [
    "myDataFrame['1955']"
   ]
  },
  {
   "cell_type": "markdown",
   "metadata": {},
   "source": [
    "### Selecting rows\n",
    "To select a range of rows, use `DataFrame[startRowIndex:endRowIndex]`. \n",
    "_Can you select rows 2 to 5?_"
   ]
  },
  {
   "cell_type": "code",
   "execution_count": 80,
   "metadata": {},
   "outputs": [
    {
     "data": {
      "text/html": [
       "<div>\n",
       "<style scoped>\n",
       "    .dataframe tbody tr th:only-of-type {\n",
       "        vertical-align: middle;\n",
       "    }\n",
       "\n",
       "    .dataframe tbody tr th {\n",
       "        vertical-align: top;\n",
       "    }\n",
       "\n",
       "    .dataframe thead th {\n",
       "        text-align: right;\n",
       "    }\n",
       "</style>\n",
       "<table border=\"1\" class=\"dataframe\">\n",
       "  <thead>\n",
       "    <tr style=\"text-align: right;\">\n",
       "      <th></th>\n",
       "      <th>countries</th>\n",
       "      <th>1950</th>\n",
       "      <th>1955</th>\n",
       "      <th>1960</th>\n",
       "      <th>1965</th>\n",
       "      <th>1970</th>\n",
       "      <th>1975</th>\n",
       "      <th>1980</th>\n",
       "      <th>1985</th>\n",
       "      <th>1990</th>\n",
       "      <th>1995</th>\n",
       "      <th>2000</th>\n",
       "      <th>2005</th>\n",
       "      <th>2010</th>\n",
       "      <th>2015</th>\n",
       "    </tr>\n",
       "  </thead>\n",
       "  <tbody>\n",
       "    <tr>\n",
       "      <th>2</th>\n",
       "      <td>China</td>\n",
       "      <td>1864.102702</td>\n",
       "      <td>1105.952557</td>\n",
       "      <td>774.884634</td>\n",
       "      <td>475.928870</td>\n",
       "      <td>341.021294</td>\n",
       "      <td>208.170863</td>\n",
       "      <td>149.660068</td>\n",
       "      <td>128.934980</td>\n",
       "      <td>99.080123</td>\n",
       "      <td>72.324927</td>\n",
       "      <td>2426.332466</td>\n",
       "      <td>1464.107627</td>\n",
       "      <td>949.178062</td>\n",
       "      <td>NaN</td>\n",
       "    </tr>\n",
       "    <tr>\n",
       "      <th>3</th>\n",
       "      <td>Germany</td>\n",
       "      <td>25297.385393</td>\n",
       "      <td>23217.332027</td>\n",
       "      <td>21502.721444</td>\n",
       "      <td>20685.689979</td>\n",
       "      <td>17636.830634</td>\n",
       "      <td>15810.553193</td>\n",
       "      <td>14545.428257</td>\n",
       "      <td>12711.156762</td>\n",
       "      <td>NaN</td>\n",
       "      <td>NaN</td>\n",
       "      <td>25420.275718</td>\n",
       "      <td>23564.385168</td>\n",
       "      <td>22945.708850</td>\n",
       "      <td>NaN</td>\n",
       "    </tr>\n",
       "    <tr>\n",
       "      <th>4</th>\n",
       "      <td>Iran</td>\n",
       "      <td>2125.030252</td>\n",
       "      <td>1679.664398</td>\n",
       "      <td>1484.666023</td>\n",
       "      <td>1445.852456</td>\n",
       "      <td>1241.647502</td>\n",
       "      <td>1477.011852</td>\n",
       "      <td>2204.420456</td>\n",
       "      <td>1793.574657</td>\n",
       "      <td>1117.218268</td>\n",
       "      <td>NaN</td>\n",
       "      <td>NaN</td>\n",
       "      <td>1906.590054</td>\n",
       "      <td>1550.090608</td>\n",
       "      <td>NaN</td>\n",
       "    </tr>\n",
       "    <tr>\n",
       "      <th>5</th>\n",
       "      <td>Japan</td>\n",
       "      <td>40837.266644</td>\n",
       "      <td>37363.287444</td>\n",
       "      <td>37518.580858</td>\n",
       "      <td>35465.925444</td>\n",
       "      <td>29064.222359</td>\n",
       "      <td>24444.201743</td>\n",
       "      <td>20680.657410</td>\n",
       "      <td>18398.721184</td>\n",
       "      <td>13726.062655</td>\n",
       "      <td>9157.323309</td>\n",
       "      <td>39971.787453</td>\n",
       "      <td>39295.306204</td>\n",
       "      <td>37291.706158</td>\n",
       "      <td>NaN</td>\n",
       "    </tr>\n",
       "  </tbody>\n",
       "</table>\n",
       "</div>"
      ],
      "text/plain": [
       "  countries          1950          1955          1960          1965  \\\n",
       "2     China   1864.102702   1105.952557    774.884634    475.928870   \n",
       "3   Germany  25297.385393  23217.332027  21502.721444  20685.689979   \n",
       "4      Iran   2125.030252   1679.664398   1484.666023   1445.852456   \n",
       "5     Japan  40837.266644  37363.287444  37518.580858  35465.925444   \n",
       "\n",
       "           1970          1975          1980          1985          1990  \\\n",
       "2    341.021294    208.170863    149.660068    128.934980     99.080123   \n",
       "3  17636.830634  15810.553193  14545.428257  12711.156762           NaN   \n",
       "4   1241.647502   1477.011852   2204.420456   1793.574657   1117.218268   \n",
       "5  29064.222359  24444.201743  20680.657410  18398.721184  13726.062655   \n",
       "\n",
       "          1995          2000          2005          2010  2015  \n",
       "2    72.324927   2426.332466   1464.107627    949.178062   NaN  \n",
       "3          NaN  25420.275718  23564.385168  22945.708850   NaN  \n",
       "4          NaN           NaN   1906.590054   1550.090608   NaN  \n",
       "5  9157.323309  39971.787453  39295.306204  37291.706158   NaN  "
      ]
     },
     "execution_count": 80,
     "metadata": {},
     "output_type": "execute_result"
    }
   ],
   "source": [
    "#DataFrame[startRowIndex:endRowIndex]\n",
    "myDataFrame[2:5+1]"
   ]
  },
  {
   "cell_type": "markdown",
   "metadata": {},
   "source": [
    "The above method selects a set of rows but what if we want one row, say `Brazil`? There are two options. \n",
    "\n",
    "Option 1 is to select-by-row-position using `DataFrame.iloc[rownumber]`. To select Brazil, we have to find the row number for Brazil and pass it as a parameter to the `iloc` selector. \n",
    "\n",
    "_Can you do it?_ "
   ]
  },
  {
   "cell_type": "code",
   "execution_count": 18,
   "metadata": {
    "scrolled": true
   },
   "outputs": [
    {
     "data": {
      "text/plain": [
       "countries         Brazil\n",
       "1950         4297.823854\n",
       "1955         3739.919389\n",
       "1960          3693.27582\n",
       "1965         3279.686396\n",
       "1970         3584.074016\n",
       "1975         3245.573152\n",
       "1980         3154.720552\n",
       "1985         2363.511202\n",
       "1990         1613.136923\n",
       "1995         1581.625423\n",
       "2000         4716.614125\n",
       "2005         3976.619168\n",
       "2010         3696.146772\n",
       "2015                 NaN\n",
       "Name: 1, dtype: object"
      ]
     },
     "execution_count": 18,
     "metadata": {},
     "output_type": "execute_result"
    }
   ],
   "source": [
    "myDataFrame.iloc[1]"
   ]
  },
  {
   "cell_type": "markdown",
   "metadata": {},
   "source": [
    "### Selecting Rows and columns with `iloc[]`. "
   ]
  },
  {
   "cell_type": "markdown",
   "metadata": {},
   "source": [
    "The `iloc` function helps you selecting both, rows and colums by their indices, i.e. their order number. \n",
    "\n",
    "`iloc[`ROW_SELECTION_GOES_HERE`, `COLUMN_SELECTION_GOES_HERE`]` takes 1 - 2 parameters. The first one (`ROW_SELECTION_GOES_HERE`) is a specification of the rows you want to select, the second parameter (`COLUMN_SELECTION_GOES_HERE`) is a specification of the columns you want to select. Both parameters can be one of the following three forms, independent from each other:\n",
    "\n",
    "* An **individual value (e.g., 1)** use this when you want to select a single row or column. E.g. `DataFrame.iloc[2,4]` gives you the value in the 4th column in row 2 (there are two individual values). \n",
    "\n",
    "* An **enumeration/list (e.g., [0,1,3])** use this when you have specific rows and or columns to select and be careful to use squared brackets around your array of numbers. For example, the expression `DataFrame.iloc[[0,2], [1,3]]` returns you the values of columns 1 and 3 for rows 0 and 2 (4 values in total).\n",
    "\n",
    "* **Ranges (e.g., 1:3)** when you want to select a range of rows or colums. For example, the expression `DataFrame.iloc[0:3, 1:3]` returns you the values of columns 1 to 3 for rows 0 to 3 (9 values in total). When using ranges, you can leave fields blank, meaning that you refer to the first or last row or column. For example, `DataFrame.iloc[:2, 3:]` returns you all columns from colum 3 on  for rows 0 to 2. \n",
    "\n",
    "\n",
    "Of course, you can mix the above values for the the `ROW_SELECTION_GOES_HERE` parameter and the `COLUMN_SELECTION_GOES_HERE` parameter. E.g. the statement DataFrame.iloc[2,0:3] will return columns 0 to 3 for row 2. \n",
    " \n",
    "More information here: https://www.shanelynn.ie/select-pandas-dataframe-rows-and-columns-using-iloc-loc-and-ix/\n",
    "\n"
   ]
  },
  {
   "cell_type": "markdown",
   "metadata": {},
   "source": [
    "_Can you select the values for first 3 years for `Germany` and `Malawi`?_"
   ]
  },
  {
   "cell_type": "code",
   "execution_count": 19,
   "metadata": {
    "scrolled": true
   },
   "outputs": [
    {
     "data": {
      "text/html": [
       "<div>\n",
       "<style scoped>\n",
       "    .dataframe tbody tr th:only-of-type {\n",
       "        vertical-align: middle;\n",
       "    }\n",
       "\n",
       "    .dataframe tbody tr th {\n",
       "        vertical-align: top;\n",
       "    }\n",
       "\n",
       "    .dataframe thead th {\n",
       "        text-align: right;\n",
       "    }\n",
       "</style>\n",
       "<table border=\"1\" class=\"dataframe\">\n",
       "  <thead>\n",
       "    <tr style=\"text-align: right;\">\n",
       "      <th></th>\n",
       "      <th>1950</th>\n",
       "      <th>1955</th>\n",
       "      <th>1960</th>\n",
       "    </tr>\n",
       "  </thead>\n",
       "  <tbody>\n",
       "    <tr>\n",
       "      <th>3</th>\n",
       "      <td>25297.385393</td>\n",
       "      <td>23217.332027</td>\n",
       "      <td>21502.721444</td>\n",
       "    </tr>\n",
       "    <tr>\n",
       "      <th>6</th>\n",
       "      <td>157.621368</td>\n",
       "      <td>142.391448</td>\n",
       "      <td>155.373892</td>\n",
       "    </tr>\n",
       "  </tbody>\n",
       "</table>\n",
       "</div>"
      ],
      "text/plain": [
       "           1950          1955          1960\n",
       "3  25297.385393  23217.332027  21502.721444\n",
       "6    157.621368    142.391448    155.373892"
      ]
     },
     "execution_count": 19,
     "metadata": {},
     "output_type": "execute_result"
    }
   ],
   "source": [
    "myDataFrame.iloc[[3,6] ,1:4]"
   ]
  },
  {
   "cell_type": "markdown",
   "metadata": {},
   "source": [
    "### Creating labels for rows"
   ]
  },
  {
   "cell_type": "markdown",
   "metadata": {},
   "source": [
    "That previous example required you to look up the indices for `Germany` and `Malawi` individually and pass the indices to `iloc`. Not only is this inconvenient, but if you have a larger data set, this is simply impossible. \n",
    "\n",
    "Pandas has a function that allows you to ask for names, rather than indices. This function is called `loc` (while `iloc` stands for index-`loc`). `loc` allows you to **pass columnnames and row labels** and can be much more convenient to use. \n",
    "\n",
    "Now, columns names are usually specified in the first row of your csv files (the table header), which in our case are the years. We have already used them with `DataFrame['somecolumnname']`.\n",
    "\n",
    "However, in addition to years in the firs row, our data has country names in the very fist column (which is the colum with the index 0). While Pandas assumes that you have column labels, it does not assume that you have row labels. This is because many tables have an index in the first column, rather than a name like us.\n",
    "\n",
    "Thus, we need to tell Pandas that our first column should be used as  **labels** (which is how Pandas calls them). Important is that each label **must be _unique_**, i.e. no two rows can have the same lables. In our case, we have only one row per country and no two countries with the same name. Great, let's move on.\n",
    " \n",
    "In order to tell Pandas which column we want to use as lables, we use the `DataFrame.set_index(COLUMN_NAME, inplace=False)` method. The `inplace=False` parameter prevents Pandas from modifying the `DataFrame` variable; rather, the function returns a new data frame and leaves the old one untouched. Hence, here, we create a new dataframe which we want to call `countryData` and which is returned by calling `set_index(..)` on our first dataframe.\n",
    "\n",
    "**NOTE:** In your own projects, you can well use `inplace=True`, which is more convenient since you do not have to create a new data frame. However, for the excerises in this notebook, you need to create a new data frame otherwise the following examples will not work properly."
   ]
  },
  {
   "cell_type": "markdown",
   "metadata": {},
   "source": [
    "_Can you set the country column as labels and save the result in a new data frame called `countryData'?_ "
   ]
  },
  {
   "cell_type": "code",
   "execution_count": 21,
   "metadata": {},
   "outputs": [],
   "source": [
    "countryData = myDataFrame.set_index('countries')"
   ]
  },
  {
   "cell_type": "markdown",
   "metadata": {},
   "source": [
    "_Now, print the first few rows of both data frames (`myDataFrame` and `countryData`) to see the difference._ "
   ]
  },
  {
   "cell_type": "code",
   "execution_count": 22,
   "metadata": {
    "scrolled": true
   },
   "outputs": [
    {
     "name": "stdout",
     "output_type": "stream",
     "text": [
      "        countries          1950          1955          1960          1965  \\\n",
      "0     Afghanistan           NaN           NaN           NaN           NaN   \n",
      "1          Brazil   4297.823854   3739.919389   3693.275820   3279.686396   \n",
      "2           China   1864.102702   1105.952557    774.884634    475.928870   \n",
      "3         Germany  25297.385393  23217.332027  21502.721444  20685.689979   \n",
      "4            Iran   2125.030252   1679.664398   1484.666023   1445.852456   \n",
      "5           Japan  40837.266644  37363.287444  37518.580858  35465.925444   \n",
      "6          Malawi    157.621368    142.391448    155.373892    129.360236   \n",
      "7          Russia   2888.847355   1967.518602   1590.696500   2106.223762   \n",
      "8  United Kingdom  29771.303348  26214.967350  22732.538466  19721.738642   \n",
      "9   United States  38710.885442  35427.909964  31831.461594  28401.465176   \n",
      "\n",
      "           1970          1975          1980          1985          1990  \\\n",
      "0           NaN           NaN           NaN           NaN           NaN   \n",
      "1   3584.074016   3245.573152   3154.720552   2363.511202   1613.136923   \n",
      "2    341.021294    208.170863    149.660068    128.934980     99.080123   \n",
      "3  17636.830634  15810.553193  14545.428257  12711.156762           NaN   \n",
      "4   1241.647502   1477.011852   2204.420456   1793.574657   1117.218268   \n",
      "5  29064.222359  24444.201743  20680.657410  18398.721184  13726.062655   \n",
      "6    138.371883    147.791025    153.275312    140.893353    126.008610   \n",
      "7           NaN           NaN           NaN           NaN           NaN   \n",
      "8  18699.035806  15734.180645  15060.070280  13682.098477  11645.431541   \n",
      "9  26549.876022  22310.239369  21491.820177  19441.379908  17374.536484   \n",
      "\n",
      "           1995          2000          2005          2010  2015  \n",
      "0           NaN           NaN           NaN           NaN   NaN  \n",
      "1   1581.625423   4716.614125   3976.619168   3696.146772   NaN  \n",
      "2     72.324927   2426.332466   1464.107627    949.178062   NaN  \n",
      "3           NaN  25420.275718  23564.385168  22945.708850   NaN  \n",
      "4           NaN           NaN   1906.590054   1550.090608   NaN  \n",
      "5   9157.323309  39971.787453  39295.306204  37291.706158   NaN  \n",
      "6    101.996530    180.902296    149.484330    155.271544   NaN  \n",
      "7           NaN   2928.005033   2442.962966   1775.141291   NaN  \n",
      "8  10253.593702  28244.336936  28354.039583  25057.613530   NaN  \n",
      "9  14426.757715  37329.615914  37718.005367  35081.923084   NaN  \n"
     ]
    }
   ],
   "source": [
    "print(myDataFrame)"
   ]
  },
  {
   "cell_type": "code",
   "execution_count": 50,
   "metadata": {
    "scrolled": true
   },
   "outputs": [
    {
     "name": "stdout",
     "output_type": "stream",
     "text": [
      "                        1950          1955          1960          1965  \\\n",
      "countries                                                                \n",
      "Afghanistan              NaN           NaN           NaN           NaN   \n",
      "Brazil           4297.823854   3739.919389   3693.275820   3279.686396   \n",
      "China            1864.102702   1105.952557    774.884634    475.928870   \n",
      "Germany         25297.385393  23217.332027  21502.721444  20685.689979   \n",
      "Iran             2125.030252   1679.664398   1484.666023   1445.852456   \n",
      "Japan           40837.266644  37363.287444  37518.580858  35465.925444   \n",
      "Malawi            157.621368    142.391448    155.373892    129.360236   \n",
      "Russia           2888.847355   1967.518602   1590.696500   2106.223762   \n",
      "United Kingdom  29771.303348  26214.967350  22732.538466  19721.738642   \n",
      "United States   38710.885442  35427.909964  31831.461594  28401.465176   \n",
      "\n",
      "                        1970          1975          1980          1985  \\\n",
      "countries                                                                \n",
      "Afghanistan              NaN           NaN           NaN           NaN   \n",
      "Brazil           3584.074016   3245.573152   3154.720552   2363.511202   \n",
      "China             341.021294    208.170863    149.660068    128.934980   \n",
      "Germany         17636.830634  15810.553193  14545.428257  12711.156762   \n",
      "Iran             1241.647502   1477.011852   2204.420456   1793.574657   \n",
      "Japan           29064.222359  24444.201743  20680.657410  18398.721184   \n",
      "Malawi            138.371883    147.791025    153.275312    140.893353   \n",
      "Russia                   NaN           NaN           NaN           NaN   \n",
      "United Kingdom  18699.035806  15734.180645  15060.070280  13682.098477   \n",
      "United States   26549.876022  22310.239369  21491.820177  19441.379908   \n",
      "\n",
      "                        1990          1995          2000          2005  \\\n",
      "countries                                                                \n",
      "Afghanistan              NaN           NaN           NaN           NaN   \n",
      "Brazil           1613.136923   1581.625423   4716.614125   3976.619168   \n",
      "China              99.080123     72.324927   2426.332466   1464.107627   \n",
      "Germany                  NaN           NaN  25420.275718  23564.385168   \n",
      "Iran             1117.218268           NaN           NaN   1906.590054   \n",
      "Japan           13726.062655   9157.323309  39971.787453  39295.306204   \n",
      "Malawi            126.008610    101.996530    180.902296    149.484330   \n",
      "Russia                   NaN           NaN   2928.005033   2442.962966   \n",
      "United Kingdom  11645.431541  10253.593702  28244.336936  28354.039583   \n",
      "United States   17374.536484  14426.757715  37329.615914  37718.005367   \n",
      "\n",
      "                        2010  2015  \n",
      "countries                           \n",
      "Afghanistan              NaN   NaN  \n",
      "Brazil           3696.146772   NaN  \n",
      "China             949.178062   NaN  \n",
      "Germany         22945.708850   NaN  \n",
      "Iran             1550.090608   NaN  \n",
      "Japan           37291.706158   NaN  \n",
      "Malawi            155.271544   NaN  \n",
      "Russia           1775.141291   NaN  \n",
      "United Kingdom  25057.613530   NaN  \n",
      "United States   35081.923084   NaN  \n"
     ]
    }
   ],
   "source": [
    "print(countryData)"
   ]
  },
  {
   "cell_type": "markdown",
   "metadata": {},
   "source": [
    "In the first print out the first column of your table should contain numbers (=indices). In the second printout (after having set `set_index(..)`, the first column should contain the country names and the numbers are gone. My (chrome) browser renders the entries in the first colum conveniently in bold. \n",
    "\n",
    "In the following, we will continue with the `countryData` data frame that has our country names as labels."
   ]
  },
  {
   "cell_type": "markdown",
   "metadata": {},
   "source": [
    "### Selecting Rows and columns with `loc[]`. "
   ]
  },
  {
   "cell_type": "markdown",
   "metadata": {},
   "source": [
    "Now, we can use `loc` with both row and column labels. `loc[]` works pretty much the same way than `iloc[]` but instead of integer indices (e.g. `DataFrame.iloc[2,3]`), `loc[]` understands our labels and column names. \n",
    "\n",
    "The three query methods to select rows and eventually colmns are the same as for `iloc`: \n",
    "1. **Individual value (e.g. 'Brazil')**: `DataFrame.iloc['Brazil']`\n",
    "2. **Enumeration (e.g. ['Brazil','United Kingdom'])**: `DataFrame.iloc[['Brazil', 'United Kingdom']]` (note the double rectangular brackets). , and \n",
    "3. **Ranges (e.g. 'Brazil':'United Kingdom')**: `DataFrame.iloc['Brazil': 'United Kingdom']`"
   ]
  },
  {
   "cell_type": "markdown",
   "metadata": {},
   "source": [
    "_Can you select all values for `Germany`._"
   ]
  },
  {
   "cell_type": "code",
   "execution_count": 31,
   "metadata": {},
   "outputs": [
    {
     "data": {
      "text/plain": [
       "1950    25297.385393\n",
       "1955    23217.332027\n",
       "1960    21502.721444\n",
       "1965    20685.689979\n",
       "1970    17636.830634\n",
       "1975    15810.553193\n",
       "1980    14545.428257\n",
       "1985    12711.156762\n",
       "1990             NaN\n",
       "1995             NaN\n",
       "2000    25420.275718\n",
       "2005    23564.385168\n",
       "2010    22945.708850\n",
       "2015             NaN\n",
       "Name: Germany, dtype: float64"
      ]
     },
     "execution_count": 31,
     "metadata": {},
     "output_type": "execute_result"
    }
   ],
   "source": [
    "countryData.loc['Germany']"
   ]
  },
  {
   "cell_type": "markdown",
   "metadata": {},
   "source": [
    "_Can you select the values for `Germany` and `Malawi` for the years 1960 to 1980?_"
   ]
  },
  {
   "cell_type": "code",
   "execution_count": 37,
   "metadata": {
    "scrolled": false
   },
   "outputs": [
    {
     "data": {
      "text/html": [
       "<div>\n",
       "<style scoped>\n",
       "    .dataframe tbody tr th:only-of-type {\n",
       "        vertical-align: middle;\n",
       "    }\n",
       "\n",
       "    .dataframe tbody tr th {\n",
       "        vertical-align: top;\n",
       "    }\n",
       "\n",
       "    .dataframe thead th {\n",
       "        text-align: right;\n",
       "    }\n",
       "</style>\n",
       "<table border=\"1\" class=\"dataframe\">\n",
       "  <thead>\n",
       "    <tr style=\"text-align: right;\">\n",
       "      <th></th>\n",
       "      <th>1960</th>\n",
       "      <th>1965</th>\n",
       "      <th>1970</th>\n",
       "      <th>1975</th>\n",
       "      <th>1980</th>\n",
       "    </tr>\n",
       "    <tr>\n",
       "      <th>countries</th>\n",
       "      <th></th>\n",
       "      <th></th>\n",
       "      <th></th>\n",
       "      <th></th>\n",
       "      <th></th>\n",
       "    </tr>\n",
       "  </thead>\n",
       "  <tbody>\n",
       "    <tr>\n",
       "      <th>Germany</th>\n",
       "      <td>21502.721444</td>\n",
       "      <td>20685.689979</td>\n",
       "      <td>17636.830634</td>\n",
       "      <td>15810.553193</td>\n",
       "      <td>14545.428257</td>\n",
       "    </tr>\n",
       "    <tr>\n",
       "      <th>Malawi</th>\n",
       "      <td>155.373892</td>\n",
       "      <td>129.360236</td>\n",
       "      <td>138.371883</td>\n",
       "      <td>147.791025</td>\n",
       "      <td>153.275312</td>\n",
       "    </tr>\n",
       "  </tbody>\n",
       "</table>\n",
       "</div>"
      ],
      "text/plain": [
       "                   1960          1965          1970          1975  \\\n",
       "countries                                                           \n",
       "Germany    21502.721444  20685.689979  17636.830634  15810.553193   \n",
       "Malawi       155.373892    129.360236    138.371883    147.791025   \n",
       "\n",
       "                   1980  \n",
       "countries                \n",
       "Germany    14545.428257  \n",
       "Malawi       153.275312  "
      ]
     },
     "execution_count": 37,
     "metadata": {},
     "output_type": "execute_result"
    }
   ],
   "source": [
    "countryData.loc[['Germany', 'Malawi'],'1960':'1980']"
   ]
  },
  {
   "cell_type": "markdown",
   "metadata": {},
   "source": [
    "**NOTE**: `loc` takes only labels and column names, no indices."
   ]
  },
  {
   "cell_type": "markdown",
   "metadata": {},
   "source": [
    "## Conditional Selection with Pandas and Boolean Operations\n",
    "One of the most useful tools in pandas are **conditional selection**, i.e. selecting rows based on their values in particular columns. For example, you want to calculate statistics for high-income countries only. Let's see how that works. `loc` gives us almost all we need."
   ]
  },
  {
   "cell_type": "markdown",
   "metadata": {},
   "source": [
    "### Conditions\n",
    "First, we need to know about **conditions**. A condition performs a test and returns `True` or `False`. The following condition tests if a value in the column `1960` is higher than `1000`."
   ]
  },
  {
   "cell_type": "markdown",
   "metadata": {},
   "source": [
    "`df['1960'] > 1000`"
   ]
  },
  {
   "cell_type": "markdown",
   "metadata": {},
   "source": [
    "Used with `loc`, we can filter all rows which have a value higher than `1000` in column `1960`: "
   ]
  },
  {
   "cell_type": "markdown",
   "metadata": {},
   "source": [
    "`df.loc[df['1960'] > 1000]`"
   ]
  },
  {
   "cell_type": "markdown",
   "metadata": {},
   "source": [
    "The `loc` in the above statement iterates over all rows in the dataframe and tests whether the value in brackets is true or false. Remember, when you use `loc` to pass a label value, `loc` checks whether the first column in that row matches the passed name. Now, we match a condition instead.\n",
    "\n",
    "If the statement in the squared brackets returns true, this row is included into the result.\n",
    "\n",
    "Conditions are powerful mechanisms and besides the greater than `>` operations include the following numeric relations:\n",
    "\n",
    "* **lesser than**: `<`, e.g. `df.loc[df['1960'] < 1000]`\n",
    "* **equals**: `==`, e.g. `df.loc[df['1960'] == 1000]`\n",
    "* **unequals**: `!=`, e.g. `df.loc[df['1960'] != 1000]`\n",
    "* **equal or greater**: `>=` e.g. `df.loc[df['1960'] >= 1000]`\n",
    "* **equal or lesser**: `<=` e.g. `df.loc[df['1960'] <= 1000]`"
   ]
  },
  {
   "cell_type": "markdown",
   "metadata": {},
   "source": [
    "_Can you filter all rows (countries) with values lower than `10000` in 2010?_ "
   ]
  },
  {
   "cell_type": "code",
   "execution_count": 51,
   "metadata": {
    "scrolled": true
   },
   "outputs": [
    {
     "data": {
      "text/plain": [
       "countries\n",
       "Brazil    3696.146772\n",
       "China      949.178062\n",
       "Iran      1550.090608\n",
       "Malawi     155.271544\n",
       "Russia    1775.141291\n",
       "Name: 2010, dtype: float64"
      ]
     },
     "execution_count": 51,
     "metadata": {},
     "output_type": "execute_result"
    }
   ],
   "source": [
    "countryData.loc[countryData['2010'] < 10000, '2010']"
   ]
  },
  {
   "cell_type": "markdown",
   "metadata": {},
   "source": [
    "### Boolean operations\n",
    "\n",
    "Moreover, we can combine conditions through logical **boolean operations**. Boolean operations are logical constructs that work through the following **boolean operators**: \n",
    "\n",
    "1. **AND (`&`)**: selects a row if **all** conditions joined by an `&` sign are true:\n",
    "    *  e.g. `df.loc[(df['1960'] > 1000) & (df['1960'] < 3000)]` returs all countries with values between 1000 **and** 3000. \n",
    "    \n",
    "* **OR ('|')**: selects a row if **at least one** of the conditions joined by a `|` (say 'pipe') sign are true:\n",
    "    * e.g. `df.loc[(df['1960'] < 1000) | (df['1960'] > 3000])` returs all countries with values smaller than 1000 **or** with values larger than 3000. \n",
    "    \n",
    "* **NOT(~)**: selects a row if a **condition is not met**. the `~` charater (say 'tilde') has to stand _before_ the condition: \n",
    "    *  e.g. `df.loc[~(df['1960'] < 1000)]` returs all countries with values not lower than 1000 (i.e. rows with values higher than 1000, including 1000.) \n",
    "\n",
    "You can combine these boolean operations in many ways using parentheses, as in the following example, which returns all countries with values between 1000 and 3000, or countries with values exactly 10000 in 1960.\n",
    "\n",
    "`df.loc[((df['1960'] > 1000) & (countryData['1960'] < 3000)) | (countryData['1960'] == 10000)]`"
   ]
  },
  {
   "cell_type": "markdown",
   "metadata": {},
   "source": [
    "_Can you get only those countries whose values have increased from below 10000 in 1950 to over 300000 in 2010?_"
   ]
  },
  {
   "cell_type": "code",
   "execution_count": 49,
   "metadata": {
    "scrolled": true
   },
   "outputs": [
    {
     "data": {
      "text/html": [
       "<div>\n",
       "<style scoped>\n",
       "    .dataframe tbody tr th:only-of-type {\n",
       "        vertical-align: middle;\n",
       "    }\n",
       "\n",
       "    .dataframe tbody tr th {\n",
       "        vertical-align: top;\n",
       "    }\n",
       "\n",
       "    .dataframe thead th {\n",
       "        text-align: right;\n",
       "    }\n",
       "</style>\n",
       "<table border=\"1\" class=\"dataframe\">\n",
       "  <thead>\n",
       "    <tr style=\"text-align: right;\">\n",
       "      <th></th>\n",
       "      <th>1950</th>\n",
       "      <th>1955</th>\n",
       "      <th>1960</th>\n",
       "      <th>1965</th>\n",
       "      <th>1970</th>\n",
       "      <th>1975</th>\n",
       "      <th>1980</th>\n",
       "      <th>1985</th>\n",
       "      <th>1990</th>\n",
       "      <th>1995</th>\n",
       "      <th>2000</th>\n",
       "      <th>2005</th>\n",
       "      <th>2010</th>\n",
       "      <th>2015</th>\n",
       "    </tr>\n",
       "    <tr>\n",
       "      <th>countries</th>\n",
       "      <th></th>\n",
       "      <th></th>\n",
       "      <th></th>\n",
       "      <th></th>\n",
       "      <th></th>\n",
       "      <th></th>\n",
       "      <th></th>\n",
       "      <th></th>\n",
       "      <th></th>\n",
       "      <th></th>\n",
       "      <th></th>\n",
       "      <th></th>\n",
       "      <th></th>\n",
       "      <th></th>\n",
       "    </tr>\n",
       "  </thead>\n",
       "  <tbody>\n",
       "    <tr>\n",
       "      <th>Brazil</th>\n",
       "      <td>4297.823854</td>\n",
       "      <td>3739.919389</td>\n",
       "      <td>3693.275820</td>\n",
       "      <td>3279.686396</td>\n",
       "      <td>3584.074016</td>\n",
       "      <td>3245.573152</td>\n",
       "      <td>3154.720552</td>\n",
       "      <td>2363.511202</td>\n",
       "      <td>1613.136923</td>\n",
       "      <td>1581.625423</td>\n",
       "      <td>4716.614125</td>\n",
       "      <td>3976.619168</td>\n",
       "      <td>3696.146772</td>\n",
       "      <td>NaN</td>\n",
       "    </tr>\n",
       "    <tr>\n",
       "      <th>China</th>\n",
       "      <td>1864.102702</td>\n",
       "      <td>1105.952557</td>\n",
       "      <td>774.884634</td>\n",
       "      <td>475.928870</td>\n",
       "      <td>341.021294</td>\n",
       "      <td>208.170863</td>\n",
       "      <td>149.660068</td>\n",
       "      <td>128.934980</td>\n",
       "      <td>99.080123</td>\n",
       "      <td>72.324927</td>\n",
       "      <td>2426.332466</td>\n",
       "      <td>1464.107627</td>\n",
       "      <td>949.178062</td>\n",
       "      <td>NaN</td>\n",
       "    </tr>\n",
       "    <tr>\n",
       "      <th>Iran</th>\n",
       "      <td>2125.030252</td>\n",
       "      <td>1679.664398</td>\n",
       "      <td>1484.666023</td>\n",
       "      <td>1445.852456</td>\n",
       "      <td>1241.647502</td>\n",
       "      <td>1477.011852</td>\n",
       "      <td>2204.420456</td>\n",
       "      <td>1793.574657</td>\n",
       "      <td>1117.218268</td>\n",
       "      <td>NaN</td>\n",
       "      <td>NaN</td>\n",
       "      <td>1906.590054</td>\n",
       "      <td>1550.090608</td>\n",
       "      <td>NaN</td>\n",
       "    </tr>\n",
       "    <tr>\n",
       "      <th>Malawi</th>\n",
       "      <td>157.621368</td>\n",
       "      <td>142.391448</td>\n",
       "      <td>155.373892</td>\n",
       "      <td>129.360236</td>\n",
       "      <td>138.371883</td>\n",
       "      <td>147.791025</td>\n",
       "      <td>153.275312</td>\n",
       "      <td>140.893353</td>\n",
       "      <td>126.008610</td>\n",
       "      <td>101.996530</td>\n",
       "      <td>180.902296</td>\n",
       "      <td>149.484330</td>\n",
       "      <td>155.271544</td>\n",
       "      <td>NaN</td>\n",
       "    </tr>\n",
       "    <tr>\n",
       "      <th>Russia</th>\n",
       "      <td>2888.847355</td>\n",
       "      <td>1967.518602</td>\n",
       "      <td>1590.696500</td>\n",
       "      <td>2106.223762</td>\n",
       "      <td>NaN</td>\n",
       "      <td>NaN</td>\n",
       "      <td>NaN</td>\n",
       "      <td>NaN</td>\n",
       "      <td>NaN</td>\n",
       "      <td>NaN</td>\n",
       "      <td>2928.005033</td>\n",
       "      <td>2442.962966</td>\n",
       "      <td>1775.141291</td>\n",
       "      <td>NaN</td>\n",
       "    </tr>\n",
       "  </tbody>\n",
       "</table>\n",
       "</div>"
      ],
      "text/plain": [
       "                  1950         1955         1960         1965         1970  \\\n",
       "countries                                                                    \n",
       "Brazil     4297.823854  3739.919389  3693.275820  3279.686396  3584.074016   \n",
       "China      1864.102702  1105.952557   774.884634   475.928870   341.021294   \n",
       "Iran       2125.030252  1679.664398  1484.666023  1445.852456  1241.647502   \n",
       "Malawi      157.621368   142.391448   155.373892   129.360236   138.371883   \n",
       "Russia     2888.847355  1967.518602  1590.696500  2106.223762          NaN   \n",
       "\n",
       "                  1975         1980         1985         1990         1995  \\\n",
       "countries                                                                    \n",
       "Brazil     3245.573152  3154.720552  2363.511202  1613.136923  1581.625423   \n",
       "China       208.170863   149.660068   128.934980    99.080123    72.324927   \n",
       "Iran       1477.011852  2204.420456  1793.574657  1117.218268          NaN   \n",
       "Malawi      147.791025   153.275312   140.893353   126.008610   101.996530   \n",
       "Russia             NaN          NaN          NaN          NaN          NaN   \n",
       "\n",
       "                  2000         2005         2010  2015  \n",
       "countries                                               \n",
       "Brazil     4716.614125  3976.619168  3696.146772   NaN  \n",
       "China      2426.332466  1464.107627   949.178062   NaN  \n",
       "Iran               NaN  1906.590054  1550.090608   NaN  \n",
       "Malawi      180.902296   149.484330   155.271544   NaN  \n",
       "Russia     2928.005033  2442.962966  1775.141291   NaN  "
      ]
     },
     "execution_count": 49,
     "metadata": {},
     "output_type": "execute_result"
    }
   ],
   "source": [
    "countryData.loc[(countryData['1950'] < 10000) & countryData['2010'] > 300000]"
   ]
  },
  {
   "cell_type": "markdown",
   "metadata": {},
   "source": [
    "Being able to filter rows and columns by index (`iloc[]`), name (`loc[]`), and conditional values, we can now proceed with calculating statistical values on rows and columns. In the following, we introduce Numpy, a library for exactly this purpose.  \n",
    "\n",
    "Write a few more scripts to search for some more values, using conditions:"
   ]
  },
  {
   "cell_type": "code",
   "execution_count": 46,
   "metadata": {},
   "outputs": [
    {
     "data": {
      "text/html": [
       "<div>\n",
       "<style scoped>\n",
       "    .dataframe tbody tr th:only-of-type {\n",
       "        vertical-align: middle;\n",
       "    }\n",
       "\n",
       "    .dataframe tbody tr th {\n",
       "        vertical-align: top;\n",
       "    }\n",
       "\n",
       "    .dataframe thead th {\n",
       "        text-align: right;\n",
       "    }\n",
       "</style>\n",
       "<table border=\"1\" class=\"dataframe\">\n",
       "  <thead>\n",
       "    <tr style=\"text-align: right;\">\n",
       "      <th></th>\n",
       "      <th>1950</th>\n",
       "      <th>1955</th>\n",
       "      <th>1960</th>\n",
       "      <th>1965</th>\n",
       "      <th>1970</th>\n",
       "      <th>1975</th>\n",
       "      <th>1980</th>\n",
       "      <th>1985</th>\n",
       "      <th>1990</th>\n",
       "      <th>1995</th>\n",
       "      <th>2000</th>\n",
       "      <th>2005</th>\n",
       "      <th>2010</th>\n",
       "      <th>2015</th>\n",
       "    </tr>\n",
       "    <tr>\n",
       "      <th>countries</th>\n",
       "      <th></th>\n",
       "      <th></th>\n",
       "      <th></th>\n",
       "      <th></th>\n",
       "      <th></th>\n",
       "      <th></th>\n",
       "      <th></th>\n",
       "      <th></th>\n",
       "      <th></th>\n",
       "      <th></th>\n",
       "      <th></th>\n",
       "      <th></th>\n",
       "      <th></th>\n",
       "      <th></th>\n",
       "    </tr>\n",
       "  </thead>\n",
       "  <tbody>\n",
       "  </tbody>\n",
       "</table>\n",
       "</div>"
      ],
      "text/plain": [
       "Empty DataFrame\n",
       "Columns: [1950, 1955, 1960, 1965, 1970, 1975, 1980, 1985, 1990, 1995, 2000, 2005, 2010, 2015]\n",
       "Index: []"
      ]
     },
     "execution_count": 46,
     "metadata": {},
     "output_type": "execute_result"
    }
   ],
   "source": [
    "countryData.loc[countryData['2010'] - countryData['1950'] > 0]"
   ]
  },
  {
   "cell_type": "markdown",
   "metadata": {},
   "source": [
    "Now that we can select particular ranges of data, we can start thinking about doing some statistical analysis on that data, so we will introduct Numpy - a python library for working with numeric data."
   ]
  },
  {
   "cell_type": "markdown",
   "metadata": {},
   "source": [
    "# Numpy"
   ]
  },
  {
   "cell_type": "markdown",
   "metadata": {},
   "source": [
    "Numpy is a python module for all sorts of numerical operations and statistical analysis (http://www.numpy.org). We import numpy as follows:"
   ]
  },
  {
   "cell_type": "code",
   "execution_count": 52,
   "metadata": {},
   "outputs": [],
   "source": [
    "import numpy as np"
   ]
  },
  {
   "cell_type": "markdown",
   "metadata": {},
   "source": [
    "The directive `as np` assigns an abbreviation to the module with the official name `numpy` (`np` is the standard abbrevation for numpy used in most other  tutorials and references). To call a function from an imported module, you can then use your abbreviation like so:"
   ]
  },
  {
   "cell_type": "markdown",
   "metadata": {},
   "source": [
    "`np.sum(1,2,3)` instead of `numpy.sum(1,2,3)` (the `sum(..)` function returns the sum of the passed arguments). "
   ]
  },
  {
   "cell_type": "markdown",
   "metadata": {
    "collapsed": true
   },
   "source": [
    "## Descriptive Statistics with Numpy"
   ]
  },
  {
   "cell_type": "markdown",
   "metadata": {
    "collapsed": true
   },
   "source": [
    "Given the data above, let's calculate some simple descriptive statistic values for each country: mean, median, standart deviation, min, max, etc. \n",
    "The functions we need are\n",
    "* `np.mean(myarrayhere)` --- returns the arithmetic mean \n",
    "* `np.median(myarrayhere)` --- returns the median (the value half-way through an ordered set https://en.wikipedia.org/wiki/Median)\n",
    "* `np.std(myarrayhere)`\n",
    "More useful numpy functions are found here: https://docs.scipy.org/doc/numpy/reference/routines.statistics.html\n"
   ]
  },
  {
   "cell_type": "markdown",
   "metadata": {
    "collapsed": true
   },
   "source": [
    "## Simple Array Example\n",
    "\n",
    "Let's start with a a simple example. We create an array of length 10 of some random numers, using numpy's `rand` function in the `random` package (`np.random.rand(DESIRED_ARRAY_LENGTH_HERE)`). Then print that array."
   ]
  },
  {
   "cell_type": "code",
   "execution_count": 59,
   "metadata": {},
   "outputs": [
    {
     "name": "stdout",
     "output_type": "stream",
     "text": [
      "[0.90919711 0.32298953 0.05634679 0.74044608 0.83571755 0.95243926\n",
      " 0.66887419 0.05224868 0.38320501 0.66420921]\n"
     ]
    }
   ],
   "source": [
    "nparray=np.random.rand(10)\n",
    "print(nparray)"
   ]
  },
  {
   "cell_type": "markdown",
   "metadata": {
    "collapsed": true
   },
   "source": [
    "Now, can you calculate all the values in the above box for these numbers? (mean, median, sum, std) "
   ]
  },
  {
   "cell_type": "code",
   "execution_count": 60,
   "metadata": {
    "scrolled": true
   },
   "outputs": [
    {
     "name": "stdout",
     "output_type": "stream",
     "text": [
      "0.5585673413913932\n",
      "0.6665417007962611\n",
      "0.31719539113311246\n"
     ]
    }
   ],
   "source": [
    "print(np.mean(nparray))\n",
    "print(np.median(nparray))\n",
    "print(np.std(nparray))"
   ]
  },
  {
   "cell_type": "markdown",
   "metadata": {},
   "source": [
    "## Data Example\n",
    "\n",
    "Now, we are turning back to our country example. Note that numpy wants arrays, not tables. Hence, from our data set we can calculate statistics only per row and per colum, but not for multiple rows or multiple columns. \n",
    "\n",
    "_Can you calculate the mean value in 1990 across all countries?_ Tip: first, get the country data for 1990 using some of pandas selection functions, then pass them as a parameter to the corresponding numpy function."
   ]
  },
  {
   "cell_type": "code",
   "execution_count": 61,
   "metadata": {},
   "outputs": [
    {
     "data": {
      "text/plain": [
       "6528.782086357599"
      ]
     },
     "execution_count": 61,
     "metadata": {},
     "output_type": "execute_result"
    }
   ],
   "source": [
    "np.mean(countryData['1990'])"
   ]
  },
  {
   "cell_type": "markdown",
   "metadata": {},
   "source": [
    "The value should be `6528.782086357598`"
   ]
  },
  {
   "cell_type": "markdown",
   "metadata": {},
   "source": [
    "_Can you calculate the mean for `Brazil` for all years?_"
   ]
  },
  {
   "cell_type": "code",
   "execution_count": 63,
   "metadata": {},
   "outputs": [
    {
     "data": {
      "text/plain": [
       "3303.2866764551354"
      ]
     },
     "execution_count": 63,
     "metadata": {},
     "output_type": "execute_result"
    }
   ],
   "source": [
    "np.mean(countryData.loc['Brazil'])"
   ]
  },
  {
   "cell_type": "markdown",
   "metadata": {},
   "source": [
    "The value should be `3303.2866764551354`"
   ]
  },
  {
   "cell_type": "markdown",
   "metadata": {},
   "source": [
    "Can you calculate the mean for Brazil for the years 1950 to 1970?"
   ]
  },
  {
   "cell_type": "code",
   "execution_count": 64,
   "metadata": {},
   "outputs": [
    {
     "data": {
      "text/plain": [
       "3718.955895224916"
      ]
     },
     "execution_count": 64,
     "metadata": {},
     "output_type": "execute_result"
    }
   ],
   "source": [
    "np.mean(countryData.loc['Brazil', '1950':'1970'])"
   ]
  },
  {
   "cell_type": "markdown",
   "metadata": {},
   "source": [
    "_Can you calculate the two means for Brazil and for Germany for the two years 1950 and 1970?_"
   ]
  },
  {
   "cell_type": "code",
   "execution_count": 65,
   "metadata": {},
   "outputs": [
    {
     "data": {
      "text/plain": [
       "3940.94893522658"
      ]
     },
     "execution_count": 65,
     "metadata": {},
     "output_type": "execute_result"
    }
   ],
   "source": [
    "np.mean(countryData.loc['Brazil', ['1950','1970']])"
   ]
  },
  {
   "cell_type": "code",
   "execution_count": 66,
   "metadata": {
    "scrolled": true
   },
   "outputs": [
    {
     "data": {
      "text/plain": [
       "21467.108013518948"
      ]
     },
     "execution_count": 66,
     "metadata": {},
     "output_type": "execute_result"
    }
   ],
   "source": [
    "np.mean(countryData.loc['Germany', ['1950','1970']])"
   ]
  },
  {
   "cell_type": "markdown",
   "metadata": {},
   "source": [
    "### Iterating through a DataFrame. \n",
    "\n",
    "Now that we can print values for each row and column individually, you may ask for an automization of that proceedure: can we just print all the means for all rows in one statement. Unfortunately not automatically, but we can iterate through the rows using a loop:"
   ]
  },
  {
   "cell_type": "markdown",
   "metadata": {},
   "source": [
    "`for index, row in countryData.iterrows():\n",
    "   print(index)`\n",
    "    \n",
    "`index` in our case will return the label and row an array of numbers in this row."
   ]
  },
  {
   "cell_type": "markdown",
   "metadata": {},
   "source": [
    "_Can you complete the loop and print all the countries means?_"
   ]
  },
  {
   "cell_type": "code",
   "execution_count": 76,
   "metadata": {},
   "outputs": [
    {
     "name": "stdout",
     "output_type": "stream",
     "text": [
      "Afghanistan\n",
      "nan\n",
      "nan\n",
      "Brazil\n",
      "3303.2866764551354\n",
      "3303.2866764551354\n",
      "China\n",
      "773.8214749084224\n",
      "773.8214749084224\n",
      "Germany\n",
      "20303.406129572628\n",
      "20303.406129572628\n",
      "Iran\n",
      "1638.706047734752\n",
      "1638.706047734752\n",
      "Japan\n",
      "29478.080681966087\n",
      "29478.080681966087\n",
      "Malawi\n",
      "144.518602088105\n",
      "144.518602088105\n",
      "Russia\n",
      "2242.7707869061855\n",
      "2242.7707869061855\n",
      "United Kingdom\n",
      "20397.765254432183\n",
      "20397.765254432183\n",
      "United States\n",
      "28161.221247288784\n",
      "28161.221247288784\n"
     ]
    }
   ],
   "source": [
    "for label, row in countryData.iterrows():\n",
    "    # your code here\n",
    "    print (label)\n",
    "    print (np.mean(row))\n",
    "    print (np.mean(countryData.loc[label]))"
   ]
  },
  {
   "cell_type": "markdown",
   "metadata": {},
   "source": [
    "## More Array Functions with Numpy"
   ]
  },
  {
   "cell_type": "markdown",
   "metadata": {},
   "source": [
    "Numpy can do more than descrptics statistics. Here is a list of useful functions: \n",
    "\n",
    "* `np.size(array)`: returns the length of an array, i.e. how many elements it contains\n",
    "* `np.sort(array)`: sorts the array\n",
    "* `np.maximum(array)`: \n",
    "\n"
   ]
  },
  {
   "cell_type": "markdown",
   "metadata": {},
   "source": [
    "# Writing CSV files \n",
    "\n",
    "Eventually, after doing some stats or even after cleaning a large table, you may want to write data back into a csv file for later use. Pandas makes this easy, with the `to_csv` method, that takes a filename [https://pandas.pydata.org/pandas-docs/stable/generated/pandas.DataFrame.to_csv.html].\n",
    "\n",
    "Select all of  countries with GDP less than 10000 in 2010, and put this in a variable called `lower`.\n",
    "Now write this dataframe to a file called `lower_2010.csv`. "
   ]
  },
  {
   "cell_type": "code",
   "execution_count": 110,
   "metadata": {},
   "outputs": [
    {
     "name": "stdout",
     "output_type": "stream",
     "text": [
      "                  1950         1955         1960         1965         1970  \\\n",
      "countries                                                                    \n",
      "Brazil     4297.823854  3739.919389  3693.275820  3279.686396  3584.074016   \n",
      "China      1864.102702  1105.952557   774.884634   475.928870   341.021294   \n",
      "Iran       2125.030252  1679.664398  1484.666023  1445.852456  1241.647502   \n",
      "Malawi      157.621368   142.391448   155.373892   129.360236   138.371883   \n",
      "Russia     2888.847355  1967.518602  1590.696500  2106.223762          NaN   \n",
      "\n",
      "                  1975         1980         1985         1990         1995  \\\n",
      "countries                                                                    \n",
      "Brazil     3245.573152  3154.720552  2363.511202  1613.136923  1581.625423   \n",
      "China       208.170863   149.660068   128.934980    99.080123    72.324927   \n",
      "Iran       1477.011852  2204.420456  1793.574657  1117.218268          NaN   \n",
      "Malawi      147.791025   153.275312   140.893353   126.008610   101.996530   \n",
      "Russia             NaN          NaN          NaN          NaN          NaN   \n",
      "\n",
      "                  2000         2005         2010  2015  \n",
      "countries                                               \n",
      "Brazil     4716.614125  3976.619168  3696.146772   NaN  \n",
      "China      2426.332466  1464.107627   949.178062   NaN  \n",
      "Iran               NaN  1906.590054  1550.090608   NaN  \n",
      "Malawi      180.902296   149.484330   155.271544   NaN  \n",
      "Russia     2928.005033  2442.962966  1775.141291   NaN  \n"
     ]
    }
   ],
   "source": [
    "lower = countryData.loc[countryData['2010'] < 10000]\n",
    "print(lower)\n",
    "lower.to_csv('lower_2010.csv')"
   ]
  },
  {
   "cell_type": "code",
   "execution_count": 112,
   "metadata": {},
   "outputs": [
    {
     "name": "stdout",
     "output_type": "stream",
     "text": [
      "lower:\n",
      "[['Brazil', 4297.82385399312, 3739.91938942857, 3693.27582014833, 3279.68639609452, 3584.07401646004, 3245.57315217104, 3154.72055184122, 2363.5112024022, 1613.13692305826, 1581.62542312949, 4716.61412549824, 3976.61916776916, 3696.14677192256, nan], ['China', 1864.10270222039, 1105.95255695671, 774.884634037432, 475.928869661473, 341.021293511227, 208.170863491313, 149.66006823476, 128.934979893935, 99.0801230616385, 72.3249273149585, 2426.33246633954, 1464.10762700312, 949.178062082992, nan], ['Iran', 2125.03025238419, 1679.66439805233, 1484.66602266377, 1445.852455639, 1241.64750201368, 1477.01185152704, 2204.42045612243, 1793.57465688276, 1117.21826803939, nan, nan, 1906.59005390127, 1550.09060785641, nan], ['Malawi', 157.621367614219, 142.391447858489, 155.373892404938, 129.360235983862, 138.371882570601, 147.791025339285, 153.275311906547, 140.893352705692, 126.008610334396, 101.996530434011, 180.902295640664, 149.484329878294, 155.271544474367, nan], ['Russia', 2888.84735487466, 1967.5186024261, 1590.69649953949, 2106.22376150602, nan, nan, nan, nan, nan, nan, 2928.00503306304, 2442.96296613797, 1775.14129079602, nan]]\n",
      "lower_2010\n",
      "[['countries', '1950', '1955', '1960', '1965', '1970', '1975', '1980', '1985', '1990', '1995', '2000', '2005', '2010', '2015'], ['Brazil', 4297.82385399312, 3739.91938942857, 3693.27582014833, 3279.68639609452, 3584.07401646004, 3245.57315217104, 3154.72055184122, 2363.5112024022, 1613.13692305826, 1581.62542312949, 4716.61412549824, 3976.61916776916, 3696.14677192256, nan], ['China', 1864.10270222039, 1105.95255695671, 774.884634037432, 475.928869661473, 341.021293511227, 208.170863491313, 149.66006823476, 128.934979893935, 99.0801230616385, 72.3249273149585, 2426.33246633954, 1464.10762700312, 949.178062082992, nan], ['Iran', 2125.03025238419, 1679.66439805233, 1484.66602266377, 1445.852455639, 1241.64750201368, 1477.01185152704, 2204.42045612243, 1793.57465688276, 1117.21826803939, nan, nan, 1906.59005390127, 1550.09060785641, nan], ['Malawi', 157.621367614219, 142.391447858489, 155.373892404938, 129.360235983862, 138.371882570601, 147.791025339285, 153.275311906547, 140.893352705692, 126.008610334396, 101.996530434011, 180.902295640664, 149.484329878294, 155.271544474367, nan], ['Russia', 2888.84735487466, 1967.5186024261, 1590.69649953949, 2106.22376150602, nan, nan, nan, nan, nan, nan, 2928.00503306304, 2442.96296613797, 1775.14129079602, nan]]\n"
     ]
    }
   ],
   "source": [
    "# a list version#\n",
    "lower_2010 = [list(myDataFrame.columns)]\n",
    "lower = []\n",
    "for label, rows in countryData.iterrows():\n",
    "    if countryData.loc[label, '2010'] < 10000:\n",
    "        countryRow = [label] + list(rows)\n",
    "        lower.append(countryRow)\n",
    "        lower_2010.append(countryRow)\n",
    "\n",
    "print ('lower:')\n",
    "print (lower)\n",
    "print ('lower_2010')\n",
    "print (lower_2010)"
   ]
  },
  {
   "cell_type": "markdown",
   "metadata": {},
   "source": [
    "Now, try reading that file back in, and make sure that the values are the same."
   ]
  },
  {
   "cell_type": "code",
   "execution_count": 111,
   "metadata": {},
   "outputs": [
    {
     "data": {
      "text/html": [
       "<div>\n",
       "<style scoped>\n",
       "    .dataframe tbody tr th:only-of-type {\n",
       "        vertical-align: middle;\n",
       "    }\n",
       "\n",
       "    .dataframe tbody tr th {\n",
       "        vertical-align: top;\n",
       "    }\n",
       "\n",
       "    .dataframe thead th {\n",
       "        text-align: right;\n",
       "    }\n",
       "</style>\n",
       "<table border=\"1\" class=\"dataframe\">\n",
       "  <thead>\n",
       "    <tr style=\"text-align: right;\">\n",
       "      <th></th>\n",
       "      <th>countries</th>\n",
       "      <th>1950</th>\n",
       "      <th>1955</th>\n",
       "      <th>1960</th>\n",
       "      <th>1965</th>\n",
       "      <th>1970</th>\n",
       "      <th>1975</th>\n",
       "      <th>1980</th>\n",
       "      <th>1985</th>\n",
       "      <th>1990</th>\n",
       "      <th>1995</th>\n",
       "      <th>2000</th>\n",
       "      <th>2005</th>\n",
       "      <th>2010</th>\n",
       "      <th>2015</th>\n",
       "    </tr>\n",
       "  </thead>\n",
       "  <tbody>\n",
       "    <tr>\n",
       "      <th>0</th>\n",
       "      <td>Brazil</td>\n",
       "      <td>4297.823854</td>\n",
       "      <td>3739.919389</td>\n",
       "      <td>3693.275820</td>\n",
       "      <td>3279.686396</td>\n",
       "      <td>3584.074016</td>\n",
       "      <td>3245.573152</td>\n",
       "      <td>3154.720552</td>\n",
       "      <td>2363.511202</td>\n",
       "      <td>1613.136923</td>\n",
       "      <td>1581.625423</td>\n",
       "      <td>4716.614125</td>\n",
       "      <td>3976.619168</td>\n",
       "      <td>3696.146772</td>\n",
       "      <td>NaN</td>\n",
       "    </tr>\n",
       "    <tr>\n",
       "      <th>1</th>\n",
       "      <td>China</td>\n",
       "      <td>1864.102702</td>\n",
       "      <td>1105.952557</td>\n",
       "      <td>774.884634</td>\n",
       "      <td>475.928870</td>\n",
       "      <td>341.021294</td>\n",
       "      <td>208.170863</td>\n",
       "      <td>149.660068</td>\n",
       "      <td>128.934980</td>\n",
       "      <td>99.080123</td>\n",
       "      <td>72.324927</td>\n",
       "      <td>2426.332466</td>\n",
       "      <td>1464.107627</td>\n",
       "      <td>949.178062</td>\n",
       "      <td>NaN</td>\n",
       "    </tr>\n",
       "    <tr>\n",
       "      <th>2</th>\n",
       "      <td>Iran</td>\n",
       "      <td>2125.030252</td>\n",
       "      <td>1679.664398</td>\n",
       "      <td>1484.666023</td>\n",
       "      <td>1445.852456</td>\n",
       "      <td>1241.647502</td>\n",
       "      <td>1477.011852</td>\n",
       "      <td>2204.420456</td>\n",
       "      <td>1793.574657</td>\n",
       "      <td>1117.218268</td>\n",
       "      <td>NaN</td>\n",
       "      <td>NaN</td>\n",
       "      <td>1906.590054</td>\n",
       "      <td>1550.090608</td>\n",
       "      <td>NaN</td>\n",
       "    </tr>\n",
       "    <tr>\n",
       "      <th>3</th>\n",
       "      <td>Malawi</td>\n",
       "      <td>157.621368</td>\n",
       "      <td>142.391448</td>\n",
       "      <td>155.373892</td>\n",
       "      <td>129.360236</td>\n",
       "      <td>138.371883</td>\n",
       "      <td>147.791025</td>\n",
       "      <td>153.275312</td>\n",
       "      <td>140.893353</td>\n",
       "      <td>126.008610</td>\n",
       "      <td>101.996530</td>\n",
       "      <td>180.902296</td>\n",
       "      <td>149.484330</td>\n",
       "      <td>155.271544</td>\n",
       "      <td>NaN</td>\n",
       "    </tr>\n",
       "    <tr>\n",
       "      <th>4</th>\n",
       "      <td>Russia</td>\n",
       "      <td>2888.847355</td>\n",
       "      <td>1967.518602</td>\n",
       "      <td>1590.696500</td>\n",
       "      <td>2106.223762</td>\n",
       "      <td>NaN</td>\n",
       "      <td>NaN</td>\n",
       "      <td>NaN</td>\n",
       "      <td>NaN</td>\n",
       "      <td>NaN</td>\n",
       "      <td>NaN</td>\n",
       "      <td>2928.005033</td>\n",
       "      <td>2442.962966</td>\n",
       "      <td>1775.141291</td>\n",
       "      <td>NaN</td>\n",
       "    </tr>\n",
       "  </tbody>\n",
       "</table>\n",
       "</div>"
      ],
      "text/plain": [
       "  countries         1950         1955         1960         1965         1970  \\\n",
       "0    Brazil  4297.823854  3739.919389  3693.275820  3279.686396  3584.074016   \n",
       "1     China  1864.102702  1105.952557   774.884634   475.928870   341.021294   \n",
       "2      Iran  2125.030252  1679.664398  1484.666023  1445.852456  1241.647502   \n",
       "3    Malawi   157.621368   142.391448   155.373892   129.360236   138.371883   \n",
       "4    Russia  2888.847355  1967.518602  1590.696500  2106.223762          NaN   \n",
       "\n",
       "          1975         1980         1985         1990         1995  \\\n",
       "0  3245.573152  3154.720552  2363.511202  1613.136923  1581.625423   \n",
       "1   208.170863   149.660068   128.934980    99.080123    72.324927   \n",
       "2  1477.011852  2204.420456  1793.574657  1117.218268          NaN   \n",
       "3   147.791025   153.275312   140.893353   126.008610   101.996530   \n",
       "4          NaN          NaN          NaN          NaN          NaN   \n",
       "\n",
       "          2000         2005         2010  2015  \n",
       "0  4716.614125  3976.619168  3696.146772   NaN  \n",
       "1  2426.332466  1464.107627   949.178062   NaN  \n",
       "2          NaN  1906.590054  1550.090608   NaN  \n",
       "3   180.902296   149.484330   155.271544   NaN  \n",
       "4  2928.005033  2442.962966  1775.141291   NaN  "
      ]
     },
     "execution_count": 111,
     "metadata": {},
     "output_type": "execute_result"
    }
   ],
   "source": [
    "pd.read_csv('lower_2010.csv')"
   ]
  },
  {
   "cell_type": "markdown",
   "metadata": {},
   "source": [
    "# That's it!\n",
    "\n",
    "Congratulations. You have made it. \n",
    "\n",
    "This tutorial introduced you to `pandas` and `numpy`. We explained you how to use pandas to select rows and columns and numpy to calculate some simple statistics. Numpy is very powerful and you will use it a lot in cases where you do not need `pandas`.\n",
    "\n",
    "More info on descriptive statistics with `pandas` can be found here: \n",
    "https://pandas.pydata.org/pandas-docs/stable/basics.html#descriptive-statistics"
   ]
  },
  {
   "cell_type": "code",
   "execution_count": null,
   "metadata": {},
   "outputs": [],
   "source": []
  }
 ],
 "metadata": {
  "anaconda-cloud": {},
  "kernelspec": {
   "display_name": "Python 3 (ipykernel)",
   "language": "python",
   "name": "python3"
  },
  "language_info": {
   "codemirror_mode": {
    "name": "ipython",
    "version": 3
   },
   "file_extension": ".py",
   "mimetype": "text/x-python",
   "name": "python",
   "nbconvert_exporter": "python",
   "pygments_lexer": "ipython3",
   "version": "3.10.6"
  },
  "vscode": {
   "interpreter": {
    "hash": "b0fa6594d8f4cbf19f97940f81e996739fb7646882a419484c72d19e05852a7e"
   }
  }
 },
 "nbformat": 4,
 "nbformat_minor": 1
}

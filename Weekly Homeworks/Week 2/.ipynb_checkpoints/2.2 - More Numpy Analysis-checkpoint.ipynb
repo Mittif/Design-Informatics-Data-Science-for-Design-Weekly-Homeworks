{
 "cells": [
  {
   "cell_type": "markdown",
   "metadata": {
    "cell_tags": null,
    "ein.tags": "worksheet-0",
    "slideshow": {
     "slide_type": "-"
    }
   },
   "source": [
    "# Advanced Numpy"
   ]
  },
  {
   "cell_type": "markdown",
   "metadata": {
    "cell_tags": null,
    "ein.tags": "worksheet-0",
    "slideshow": {
     "slide_type": "-"
    }
   },
   "source": [
    "### You already worked briefly with numpy in the previous notebook. This tutorial is an extension and repetition. \n",
    "\n",
    "There's not much to do in this notebook, other than follow it through, and experiment with the ideas that it is providing.\n",
    "\n",
    "Numpy is package for numeric scientific computing, i.e., calculations on single or multidimensional arrays. It is similar to Pandas. However, while Pandas stores 2-dimensional arrays (that is: tables with rows (1st dimension) and columns (2nd dimension)), Numpy can create 3-dimensional and n-dimensional (read: 'multi-dimensional') tables. Sounds crazy, but is true. Here, we will work with 2-dimensional arrays only but perhaps your class project requires more dimensions. Who knows!\n",
    "\n",
    "In Numpy, you find similar functions to access rows, colums, and cells than in Pandas. However, Numpy arrays are more lightweight, created for performance and hence larger data sets. You might want to use numpy instead of Pandas for the following cases: \n",
    "* your data is full of numbers and high-dimensional, \n",
    "* you need performance e.g., for large data sets,  \n",
    "* you have such small data sets that you don't need the heavy Pandas\n",
    "* you are creating meta-data on the fly that you need to do your computation on (e.g., get the mean for each column, and calcuate the mode. You do not need to create a data frame with all the means. \n",
    "\n",
    "However, programming Numpy is bit less convenient than Pandas as you cannot, e.g., access a column by its name. Also, by default numpy arrays are *numbers* only. \n",
    "\n",
    "To learn more about Numpy, and SciPy, its more powerful extension for scientific computation, check this reference: \n",
    "* https://engineering.ucsb.edu/~shell/che210d/numpy.pdf\n",
    "\n",
    "More on the differences between Pandas and Numpy: \n",
    "* http://gouthamanbalaraman.com/blog/numpy-vs-pandas-comparison.html\n"
   ]
  },
  {
   "cell_type": "markdown",
   "metadata": {
    "cell_tags": null,
    "ein.tags": "worksheet-0",
    "slideshow": {
     "slide_type": "-"
    }
   },
   "source": [
    "## Analyzing time series patient data \n",
    "\n",
    "In this tutorial, we are studying inflammation in patients who have been given a new treatment for arthritis,\n",
    "and need to analyze the first dozen data sets. \n",
    "The data sets are stored in [comma-separated values](./gloss.html#csv) (CSV) format:\n",
    "each row holds information for a single patient,\n",
    "and the columns represent successive days.\n",
    "The first few rows of our first file look like this:\n",
    "\n",
    "    0,0,1,3,1,2,4,7,8,3,3,3,10,5,7,4,7,7,12,18,6,13,11,11,7,7,4,6,8,8,4,4,5,7,3,4,2,3,0,0\n",
    "    0,1,2,1,2,1,3,2,2,6,10,11,5,9,4,4,7,16,8,6,18,4,12,5,12,7,11,5,11,3,3,5,4,4,5,5,1,1,0,1\n",
    "    0,1,1,3,3,2,6,2,5,9,5,7,4,5,4,15,5,11,9,10,19,14,12,17,7,12,11,7,4,2,10,5,4,2,2,3,2,2,1,1\n",
    "    0,0,2,0,4,2,2,1,6,7,10,7,9,13,8,8,15,10,10,7,17,4,4,7,6,15,6,4,9,11,3,5,6,3,3,4,2,3,2,1\n",
    "    0,1,1,3,3,1,3,5,2,4,4,7,6,5,3,10,8,10,6,17,9,14,9,7,13,9,12,6,7,7,9,6,3,2,2,4,2,0,1,1\n",
    "    \n",
    "For our analysis, we want to:\n",
    "\n",
    "*   load that data into memory (the jupyter notebook),\n",
    "*   calculate the average (mean) inflammation per day across all patients, and\n",
    "*   plot the result in a graph.\n",
    "\n",
    "To do all that, we'll have to learn a little bit about programming."
   ]
  },
  {
   "cell_type": "markdown",
   "metadata": {
    "cell_tags": [
     "objectives"
    ],
    "ein.tags": "worksheet-0",
    "slideshow": {
     "slide_type": "-"
    }
   },
   "source": [
    "#### Objectives\n",
    "\n",
    "*   Explain what a library is, and what libraries are used for.\n",
    "*   Load a Python library and use the things it contains.\n",
    "*   Read tabular data from a file into a program.\n",
    "*   Assign values to variables.\n",
    "*   Select individual values and subsections from data.\n",
    "*   Perform operations on arrays of data.\n",
    "*   Display simple graphs."
   ]
  },
  {
   "cell_type": "markdown",
   "metadata": {
    "cell_tags": null,
    "ein.tags": "worksheet-0",
    "slideshow": {
     "slide_type": "-"
    }
   },
   "source": [
    "## Loading Data"
   ]
  },
  {
   "cell_type": "markdown",
   "metadata": {
    "cell_tags": null,
    "ein.tags": "worksheet-0",
    "slideshow": {
     "slide_type": "-"
    }
   },
   "source": [
    "Words are useful,\n",
    "but what's more useful are the sentences and stories we use them to build.\n",
    "Similarly,\n",
    "while a lot of powerful tools are built into languages like Python,\n",
    "even more lives in the [libraries](./gloss.html#library) they are used to build.\n",
    "\n",
    "In order to load our inflammation data,\n",
    "we need to [import](./gloss.html#import) a library called NumPy\n",
    "that knows how to operate on matrices:"
   ]
  },
  {
   "cell_type": "code",
   "execution_count": 8,
   "metadata": {
    "autoscroll": false,
    "cell_tags": null,
    "ein.tags": "worksheet-0",
    "slideshow": {
     "slide_type": "-"
    }
   },
   "outputs": [],
   "source": [
    "import numpy"
   ]
  },
  {
   "cell_type": "markdown",
   "metadata": {},
   "source": [
    "In many online tutorials, you will see numpy imported with an abbreviation `np` like so: \n",
    "\n",
    "`import numpy as np`\n",
    "\n",
    "However, for this tutorial, we stick to `numpy`"
   ]
  },
  {
   "cell_type": "markdown",
   "metadata": {
    "cell_tags": null,
    "ein.tags": "worksheet-0",
    "slideshow": {
     "slide_type": "-"
    }
   },
   "source": [
    "Importing a library is like getting a piece of lab equipment out of a storage locker\n",
    "and setting it up on the bench.\n",
    "Once it's done,\n",
    "we can ask the library to read our data file for us:"
   ]
  },
  {
   "cell_type": "code",
   "execution_count": 9,
   "metadata": {
    "autoscroll": false,
    "cell_tags": null,
    "ein.tags": "worksheet-0",
    "slideshow": {
     "slide_type": "-"
    }
   },
   "outputs": [
    {
     "data": {
      "text/plain": [
       "array([[0., 0., 1., ..., 3., 0., 0.],\n",
       "       [0., 1., 2., ..., 1., 0., 1.],\n",
       "       [0., 1., 1., ..., 2., 1., 1.],\n",
       "       ...,\n",
       "       [0., 1., 1., ..., 1., 1., 1.],\n",
       "       [0., 0., 0., ..., 0., 2., 0.],\n",
       "       [0., 0., 1., ..., 1., 1., 0.]])"
      ]
     },
     "execution_count": 9,
     "metadata": {},
     "output_type": "execute_result"
    }
   ],
   "source": [
    "numpy.loadtxt(fname='inflammation-01.csv', delimiter=',')\n"
   ]
  },
  {
   "cell_type": "markdown",
   "metadata": {
    "cell_tags": null,
    "ein.tags": "worksheet-0",
    "slideshow": {
     "slide_type": "-"
    }
   },
   "source": [
    "The expression `numpy.loadtxt(...)` is a [function call](./gloss.html#function-call)\n",
    "that asks Python to run the function `loadtxt` that belongs to the `numpy` library.\n",
    "This [dotted notation](./gloss.html#dotted-notation) is used everywhere in Python\n",
    "to refer to the parts of things as `whole.part`.\n",
    "\n",
    "`numpy.loadtxt` has two [parameters](./gloss.html#parameter):\n",
    "the name of the file we want to read,\n",
    "and the [delimiter](./gloss.html#delimiter) that separates values on a line.\n",
    "These both need to be character strings (or [strings](./gloss.html#string) for short),\n",
    "so we put them in quotes.\n",
    "\n",
    "When we are finished typing and press Shift+Enter,\n",
    "the notebook runs our command.\n",
    "Since we haven't told it to do anything else with the function's output,\n",
    "the notebook displays it.\n",
    "In this case,\n",
    "that output is the data we just loaded.\n",
    "By default,\n",
    "only a few rows and columns are shown\n",
    "(with `...` to omit elements when displaying big arrays).\n",
    "To save space,\n",
    "Python displays numbers as `1.` instead of `1.0`\n",
    "when there's nothing interesting after the decimal point."
   ]
  },
  {
   "cell_type": "markdown",
   "metadata": {},
   "source": [
    "Let's load our data into a variable called 'data'."
   ]
  },
  {
   "cell_type": "code",
   "execution_count": 10,
   "metadata": {
    "autoscroll": false,
    "cell_tags": null,
    "ein.tags": "worksheet-0",
    "slideshow": {
     "slide_type": "-"
    }
   },
   "outputs": [],
   "source": [
    "data = numpy.loadtxt(fname='inflammation-01.csv', delimiter=',')"
   ]
  },
  {
   "cell_type": "markdown",
   "metadata": {
    "cell_tags": null,
    "ein.tags": "worksheet-0",
    "slideshow": {
     "slide_type": "-"
    }
   },
   "source": [
    "This statement doesn't produce any output because assignment doesn't display anything.\n",
    "If we want to check that our data has been loaded,\n",
    "we can print the variable's value:"
   ]
  },
  {
   "cell_type": "code",
   "execution_count": 11,
   "metadata": {
    "autoscroll": false,
    "cell_tags": null,
    "ein.tags": "worksheet-0",
    "slideshow": {
     "slide_type": "-"
    }
   },
   "outputs": [
    {
     "name": "stdout",
     "output_type": "stream",
     "text": [
      "[[0. 0. 1. ... 3. 0. 0.]\n",
      " [0. 1. 2. ... 1. 0. 1.]\n",
      " [0. 1. 1. ... 2. 1. 1.]\n",
      " ...\n",
      " [0. 1. 1. ... 1. 1. 1.]\n",
      " [0. 0. 0. ... 0. 2. 0.]\n",
      " [0. 0. 1. ... 1. 1. 0.]]\n"
     ]
    }
   ],
   "source": [
    "print( data )"
   ]
  },
  {
   "cell_type": "markdown",
   "metadata": {
    "cell_tags": null,
    "ein.tags": "worksheet-0",
    "slideshow": {
     "slide_type": "-"
    }
   },
   "source": [
    "### Manipulating Data"
   ]
  },
  {
   "cell_type": "markdown",
   "metadata": {
    "cell_tags": null,
    "ein.tags": "worksheet-0",
    "slideshow": {
     "slide_type": "-"
    }
   },
   "source": [
    "Now that our data is in memory,\n",
    "we can start doing things with it.\n",
    "First,\n",
    "let's ask what [type](./gloss.html#data-type) of thing `data` refers to:"
   ]
  },
  {
   "cell_type": "code",
   "execution_count": 6,
   "metadata": {
    "autoscroll": false,
    "cell_tags": null,
    "ein.tags": "worksheet-0",
    "slideshow": {
     "slide_type": "-"
    }
   },
   "outputs": [
    {
     "name": "stdout",
     "output_type": "stream",
     "text": [
      "<class 'numpy.ndarray'>\n"
     ]
    }
   ],
   "source": [
    "print( type(data) )"
   ]
  },
  {
   "cell_type": "markdown",
   "metadata": {
    "cell_tags": null,
    "ein.tags": "worksheet-0",
    "slideshow": {
     "slide_type": "-"
    }
   },
   "source": [
    "The output tells us that `data` currently refers to an N-dimensional array created by the NumPy library.\n",
    "We can see what its [shape](./gloss.html#shape) is like this:"
   ]
  },
  {
   "cell_type": "code",
   "execution_count": 12,
   "metadata": {
    "autoscroll": false,
    "cell_tags": null,
    "ein.tags": "worksheet-0",
    "slideshow": {
     "slide_type": "-"
    }
   },
   "outputs": [
    {
     "name": "stdout",
     "output_type": "stream",
     "text": [
      "(60, 40)\n"
     ]
    }
   ],
   "source": [
    "print( data.shape )"
   ]
  },
  {
   "cell_type": "markdown",
   "metadata": {
    "cell_tags": null,
    "ein.tags": "worksheet-0",
    "slideshow": {
     "slide_type": "-"
    }
   },
   "source": [
    "This tells us that `data` has 60 rows and 40 columns.\n",
    "`data.shape` is a [member](./gloss.html#member) of `data`,\n",
    "i.e.,\n",
    "a value that is stored as part of a larger value.\n",
    "We use the same dotted notation for the members of values\n",
    "that we use for the functions in libraries\n",
    "because they have the same part-and-whole relationship."
   ]
  },
  {
   "cell_type": "markdown",
   "metadata": {
    "cell_tags": null,
    "ein.tags": "worksheet-0",
    "slideshow": {
     "slide_type": "-"
    }
   },
   "source": [
    "If we want to get a single value from the matrix,\n",
    "we must provide an [index](./gloss.html#index) in square brackets,\n",
    "just as we do in math:"
   ]
  },
  {
   "cell_type": "code",
   "execution_count": 7,
   "metadata": {
    "autoscroll": false,
    "cell_tags": null,
    "ein.tags": "worksheet-0",
    "slideshow": {
     "slide_type": "-"
    }
   },
   "outputs": [
    {
     "name": "stdout",
     "output_type": "stream",
     "text": [
      "first value in data: 0.0\n"
     ]
    }
   ],
   "source": [
    "print( 'first value in data:', data[0, 0] )"
   ]
  },
  {
   "cell_type": "code",
   "execution_count": 13,
   "metadata": {
    "autoscroll": false,
    "cell_tags": null,
    "ein.tags": "worksheet-0",
    "slideshow": {
     "slide_type": "-"
    }
   },
   "outputs": [
    {
     "name": "stdout",
     "output_type": "stream",
     "text": [
      "some value in the middle of the data table: 13.0\n"
     ]
    }
   ],
   "source": [
    "print( 'some value in the middle of the data table:', data[30, 20] )"
   ]
  },
  {
   "cell_type": "markdown",
   "metadata": {
    "cell_tags": null,
    "ein.tags": "worksheet-0",
    "slideshow": {
     "slide_type": "-"
    }
   },
   "source": [
    "## Accessing values\n",
    "\n",
    "If you remember Pandas, this section will seem familiar. However, have a close look at the differences to you know when to use which structure.\n",
    "\n",
    "The expression `data[30, 20]` may not surprise you,\n",
    "but `data[0, 0]` might.\n",
    "Programming languages like Fortran and MATLAB start counting at 1,\n",
    "because that's what human beings have done for thousands of years.\n",
    "Languages in the C family (including C++, Java, Perl, and Python) count from 0\n",
    "because that's simpler for computers to do.\n",
    "As a result,\n",
    "if we have an M&times;N array in Python,\n",
    "its indices go from 0 to M-1 on the first axis\n",
    "and 0 to N-1 on the second.\n",
    "It takes a bit of getting used to,\n",
    "but one way to remember the rule is that\n",
    "the index is how many steps we have to take from the start to get the item we want.\n",
    "\n",
    "> #### In the Corner\n",
    ">\n",
    "> What may also surprise you is that when Python displays an array,\n",
    "> it shows the element with index `[0, 0]` in the upper left corner\n",
    "> rather than the lower left.\n",
    "> This is consistent with the way mathematicians draw matrices,\n",
    "> but different from the Cartesian coordinates.\n",
    "> The indices are (row, column) instead of (column, row) for the same reason."
   ]
  },
  {
   "cell_type": "markdown",
   "metadata": {
    "cell_tags": null,
    "ein.tags": "worksheet-0",
    "slideshow": {
     "slide_type": "-"
    }
   },
   "source": [
    "An index like `[30, 20]` selects a single element of an array,\n",
    "but we can select whole sections as well.\n",
    "For example,\n",
    "we can select the first ten days (columns) of values\n",
    "for the first four (rows) patients like this:"
   ]
  },
  {
   "cell_type": "code",
   "execution_count": 15,
   "metadata": {
    "autoscroll": false,
    "cell_tags": null,
    "ein.tags": "worksheet-0",
    "slideshow": {
     "slide_type": "-"
    }
   },
   "outputs": [
    {
     "name": "stdout",
     "output_type": "stream",
     "text": [
      "[[0. 0. 1. 3. 1. 2. 4. 7. 8. 3.]\n",
      " [0. 1. 2. 1. 2. 1. 3. 2. 2. 6.]\n",
      " [0. 1. 1. 3. 3. 2. 6. 2. 5. 9.]\n",
      " [0. 0. 2. 0. 4. 2. 2. 1. 6. 7.]]\n"
     ]
    }
   ],
   "source": [
    "print( data[0:4, 0:10] )"
   ]
  },
  {
   "cell_type": "markdown",
   "metadata": {
    "cell_tags": null,
    "ein.tags": "worksheet-0",
    "slideshow": {
     "slide_type": "-"
    }
   },
   "source": [
    "The [slice](./gloss.html#slice) `0:4` means,\n",
    "\"Start at index 0 and go up to, but not including, index 4.\"\n",
    "Again,\n",
    "the up-to-but-not-including takes a bit of getting used to,\n",
    "but the rule is that the difference between the upper and lower bounds is the number of values in the slice.\n",
    "\n",
    "We don't have to start slices at 0:"
   ]
  },
  {
   "cell_type": "code",
   "execution_count": 16,
   "metadata": {
    "autoscroll": false,
    "cell_tags": null,
    "ein.tags": "worksheet-0",
    "slideshow": {
     "slide_type": "-"
    }
   },
   "outputs": [
    {
     "name": "stdout",
     "output_type": "stream",
     "text": [
      "[[0. 0. 1. 2. 2. 4. 2. 1. 6. 4.]\n",
      " [0. 0. 2. 2. 4. 2. 2. 5. 5. 8.]\n",
      " [0. 0. 1. 2. 3. 1. 2. 3. 5. 3.]\n",
      " [0. 0. 0. 3. 1. 5. 6. 5. 5. 8.]\n",
      " [0. 1. 1. 2. 1. 3. 5. 3. 5. 8.]]\n"
     ]
    }
   ],
   "source": [
    "print( data[5:10, 0:10] )"
   ]
  },
  {
   "cell_type": "markdown",
   "metadata": {
    "cell_tags": null,
    "ein.tags": "worksheet-0",
    "slideshow": {
     "slide_type": "-"
    }
   },
   "source": [
    "and we don't have to take all the values in the slice---if we provide a [stride](./gloss.html#stride),\n",
    "Python takes values spaced that far apart (the last number):"
   ]
  },
  {
   "cell_type": "code",
   "execution_count": 11,
   "metadata": {
    "autoscroll": false,
    "cell_tags": null,
    "ein.tags": "worksheet-0",
    "slideshow": {
     "slide_type": "-"
    }
   },
   "outputs": [
    {
     "name": "stdout",
     "output_type": "stream",
     "text": [
      "[[0. 1. 1. 4. 8.]\n",
      " [0. 2. 4. 2. 6.]\n",
      " [0. 2. 4. 2. 5.]\n",
      " [0. 1. 1. 5. 5.]]\n"
     ]
    }
   ],
   "source": [
    "# in rows: start with 0, end by 10(not include 10), step is 3\n",
    "print( data[0:10:3, 0:10:2] )"
   ]
  },
  {
   "cell_type": "markdown",
   "metadata": {
    "cell_tags": null,
    "ein.tags": "worksheet-0",
    "slideshow": {
     "slide_type": "-"
    }
   },
   "source": [
    "Here,\n",
    "we have taken rows 0, 3, 6, and 9,\n",
    "and columns 0, 2, 4, 6, and 8.\n",
    "(Again, we always include the lower bound,\n",
    "but stop when we reach or cross the upper bound.)"
   ]
  },
  {
   "cell_type": "markdown",
   "metadata": {
    "cell_tags": null,
    "ein.tags": "worksheet-0",
    "slideshow": {
     "slide_type": "-"
    }
   },
   "source": [
    "We also don't have to include the upper and lower bound on the slice.\n",
    "If we don't include the lower bound,\n",
    "Python uses 0 by default;\n",
    "if we don't include the upper,\n",
    "the slice runs to the end of the axis,\n",
    "and if we don't include either\n",
    "(i.e., if we just use ':' on its own),\n",
    "the slice includes everything:"
   ]
  },
  {
   "cell_type": "code",
   "execution_count": 17,
   "metadata": {
    "autoscroll": false,
    "cell_tags": null,
    "ein.tags": "worksheet-0",
    "slideshow": {
     "slide_type": "-"
    }
   },
   "outputs": [
    {
     "name": "stdout",
     "output_type": "stream",
     "text": [
      "small is:\n",
      "[[2. 3. 0. 0.]\n",
      " [1. 1. 0. 1.]\n",
      " [2. 2. 1. 1.]]\n"
     ]
    }
   ],
   "source": [
    "small = data[:3, 36:] \n",
    "# rows: 0,1,2 and columns: 36,37,38,39\n",
    "print( 'small is:' )\n",
    "print( small )"
   ]
  },
  {
   "cell_type": "markdown",
   "metadata": {
    "cell_tags": null,
    "ein.tags": "worksheet-0",
    "slideshow": {
     "slide_type": "-"
    }
   },
   "source": [
    "## Descriptive Statistics with Numpy\n",
    "\n",
    "Desciptive statistics are used to describe the basic features of the data in a study. They provide simple summaries about the sample and the measures. Together with simple graphics analysis, they form the basis of virtually every quantitative analysis of data.\n",
    "\n",
    "Arrays also know how to perform common mathematical operations on their values.\n",
    "If we want to find the average inflammation for all patients on all days,\n",
    "for example,\n",
    "we can just ask the array for its mean value"
   ]
  },
  {
   "cell_type": "code",
   "execution_count": 18,
   "metadata": {
    "autoscroll": false,
    "cell_tags": null,
    "ein.tags": "worksheet-0",
    "slideshow": {
     "slide_type": "-"
    }
   },
   "outputs": [
    {
     "name": "stdout",
     "output_type": "stream",
     "text": [
      "6.14875\n"
     ]
    }
   ],
   "source": [
    "print( data.mean() )"
   ]
  },
  {
   "cell_type": "markdown",
   "metadata": {
    "cell_tags": null,
    "ein.tags": "worksheet-0",
    "slideshow": {
     "slide_type": "-"
    }
   },
   "source": [
    "`mean` is a [method](./gloss.html#method) of the array,\n",
    "i.e.,\n",
    "a function that belongs to it\n",
    "in the same way that the member `shape` does.\n",
    "If variables are nouns, methods are verbs:\n",
    "they are what the thing in question knows how to do.\n",
    "This is why `data.shape` doesn't need to be called\n",
    "(it's just a thing)\n",
    "but `data.mean()` does\n",
    "(it's an action).\n",
    "It is also why we need empty parentheses for `data.mean()`:\n",
    "even when we're not passing in any parameters,\n",
    "parentheses are how we tell Python to go and do something for us.\n",
    "\n",
    "NumPy arrays have lots of useful methods:"
   ]
  },
  {
   "cell_type": "code",
   "execution_count": 19,
   "metadata": {
    "autoscroll": false,
    "cell_tags": null,
    "ein.tags": "worksheet-0",
    "slideshow": {
     "slide_type": "-"
    }
   },
   "outputs": [
    {
     "name": "stdout",
     "output_type": "stream",
     "text": [
      "maximum inflammation: 20.0\n",
      "minimum inflammation: 0.0\n",
      "standard deviation: 4.613833197118566\n"
     ]
    }
   ],
   "source": [
    "print( 'maximum inflammation:', data.max() )\n",
    "print( 'minimum inflammation:', data.min())\n",
    "print( 'standard deviation:', data.std())"
   ]
  },
  {
   "cell_type": "markdown",
   "metadata": {
    "cell_tags": null,
    "ein.tags": "worksheet-0",
    "slideshow": {
     "slide_type": "-"
    }
   },
   "source": [
    "When analyzing data,\n",
    "though,\n",
    "we often want to look at partial statistics,\n",
    "such as the maximum value per patient\n",
    "or the average value per day.\n",
    "One way to do this is to select the data we want to create a new temporary array,\n",
    "then ask it to do the calculation:"
   ]
  },
  {
   "cell_type": "code",
   "execution_count": 21,
   "metadata": {
    "autoscroll": false,
    "cell_tags": null,
    "ein.tags": "worksheet-0",
    "slideshow": {
     "slide_type": "-"
    }
   },
   "outputs": [
    {
     "name": "stdout",
     "output_type": "stream",
     "text": [
      "maximum inflammation for patient 0: 18.0\n"
     ]
    }
   ],
   "source": [
    "patient_0 = data[0, :] # 0 on the first axis, everything on the second\n",
    "print( 'maximum inflammation for patient 0:', patient_0.max() )"
   ]
  },
  {
   "cell_type": "markdown",
   "metadata": {
    "cell_tags": null,
    "ein.tags": "worksheet-0",
    "slideshow": {
     "slide_type": "-"
    }
   },
   "source": [
    "We don't actually need to store the row in a variable of its own.\n",
    "Instead, we can combine the selection and the method call:"
   ]
  },
  {
   "cell_type": "code",
   "execution_count": 22,
   "metadata": {
    "autoscroll": false,
    "cell_tags": null,
    "ein.tags": "worksheet-0",
    "slideshow": {
     "slide_type": "-"
    }
   },
   "outputs": [
    {
     "name": "stdout",
     "output_type": "stream",
     "text": [
      "maximum inflammation for patient 2: 19.0\n"
     ]
    }
   ],
   "source": [
    "print( 'maximum inflammation for patient 2:', data[2, :].max() )"
   ]
  },
  {
   "cell_type": "markdown",
   "metadata": {
    "cell_tags": null,
    "ein.tags": "worksheet-0",
    "slideshow": {
     "slide_type": "-"
    }
   },
   "source": [
    "What if we need the maximum inflammation for *all* patients,\n",
    "or the average for each day?\n",
    "As the diagram below shows,\n",
    "we want to perform the operation across an axis:"
   ]
  },
  {
   "cell_type": "markdown",
   "metadata": {
    "cell_tags": null,
    "ein.tags": "worksheet-0",
    "slideshow": {
     "slide_type": "-"
    }
   },
   "source": [
    "<img src=\"python-operations-across-axes.svg\" alt=\"Operations Across Axes\" />"
   ]
  },
  {
   "cell_type": "markdown",
   "metadata": {
    "cell_tags": null,
    "ein.tags": "worksheet-0",
    "slideshow": {
     "slide_type": "-"
    }
   },
   "source": [
    "To support this,\n",
    "most array methods allow us to specify the axis we want to work on.\n",
    "If we ask for the average across axis 0,\n",
    "we get:"
   ]
  },
  {
   "cell_type": "code",
   "execution_count": 24,
   "metadata": {
    "autoscroll": false,
    "cell_tags": null,
    "ein.tags": "worksheet-0",
    "slideshow": {
     "slide_type": "-"
    }
   },
   "outputs": [
    {
     "name": "stdout",
     "output_type": "stream",
     "text": [
      "[ 0.          0.45        1.11666667  1.75        2.43333333  3.15\n",
      "  3.8         3.88333333  5.23333333  5.51666667  5.95        5.9\n",
      "  8.35        7.73333333  8.36666667  9.5         9.58333333 10.63333333\n",
      " 11.56666667 12.35       13.25       11.96666667 11.03333333 10.16666667\n",
      " 10.          8.66666667  9.15        7.25        7.33333333  6.58333333\n",
      "  6.06666667  5.95        5.11666667  3.6         3.3         3.56666667\n",
      "  2.48333333  1.5         1.13333333  0.56666667]\n"
     ]
    }
   ],
   "source": [
    "print( data.mean(axis=0) )"
   ]
  },
  {
   "cell_type": "markdown",
   "metadata": {
    "cell_tags": null,
    "ein.tags": "worksheet-0",
    "slideshow": {
     "slide_type": "-"
    }
   },
   "source": [
    "As a quick check,\n",
    "we can ask this array what its shape is:"
   ]
  },
  {
   "cell_type": "code",
   "execution_count": 25,
   "metadata": {
    "autoscroll": false,
    "cell_tags": null,
    "ein.tags": "worksheet-0",
    "slideshow": {
     "slide_type": "-"
    }
   },
   "outputs": [
    {
     "name": "stdout",
     "output_type": "stream",
     "text": [
      "(40,)\n"
     ]
    }
   ],
   "source": [
    "print( data.mean(axis=0).shape )"
   ]
  },
  {
   "cell_type": "markdown",
   "metadata": {
    "cell_tags": null,
    "ein.tags": "worksheet-0",
    "slideshow": {
     "slide_type": "-"
    }
   },
   "source": [
    "The expression `(40,)` tells us we have an N&times;1 vector,\n",
    "so this is the average inflammation per day for all patients.\n",
    "If we average across axis 1, we get:"
   ]
  },
  {
   "cell_type": "code",
   "execution_count": 19,
   "metadata": {
    "autoscroll": false,
    "cell_tags": null,
    "ein.tags": "worksheet-0",
    "slideshow": {
     "slide_type": "-"
    }
   },
   "outputs": [
    {
     "name": "stdout",
     "output_type": "stream",
     "text": [
      "[5.45  5.425 6.1   5.9   5.55  6.225 5.975 6.65  6.625 6.525 6.775 5.8\n",
      " 6.225 5.75  5.225 6.3   6.55  5.7   5.85  6.55  5.775 5.825 6.175 6.1\n",
      " 5.8   6.425 6.05  6.025 6.175 6.55  6.175 6.35  6.725 6.125 7.075 5.725\n",
      " 5.925 6.15  6.075 5.75  5.975 5.725 6.3   5.9   6.75  5.925 7.225 6.15\n",
      " 5.95  6.275 5.7   6.1   6.825 5.975 6.725 5.7   6.25  6.4   7.05  5.9  ]\n"
     ]
    }
   ],
   "source": [
    "print( data.mean(axis=1) )"
   ]
  },
  {
   "cell_type": "markdown",
   "metadata": {
    "cell_tags": null,
    "ein.tags": "worksheet-0",
    "slideshow": {
     "slide_type": "-"
    }
   },
   "source": [
    "which is the average inflammation per patient across all days."
   ]
  },
  {
   "cell_type": "markdown",
   "metadata": {
    "cell_tags": [
     "challenges"
    ],
    "ein.tags": "worksheet-0",
    "slideshow": {
     "slide_type": "-"
    }
   },
   "source": [
    "#### Challenges\n",
    "\n",
    "A subsection of an array is called a [slice](./gloss.html#slice).\n",
    "We can take slices of character strings as well:"
   ]
  },
  {
   "cell_type": "code",
   "execution_count": 28,
   "metadata": {
    "autoscroll": false,
    "cell_tags": [
     "challenges"
    ],
    "ein.tags": "worksheet-0",
    "slideshow": {
     "slide_type": "-"
    }
   },
   "outputs": [
    {
     "name": "stdout",
     "output_type": "stream",
     "text": [
      "first three characters: oxy\n",
      "last three characters: gen\n"
     ]
    }
   ],
   "source": [
    "element = 'oxygen'\n",
    "print( 'first three characters:', element[0:3] )\n",
    "print( 'last three characters:', element[3:6] )"
   ]
  },
  {
   "cell_type": "markdown",
   "metadata": {
    "cell_tags": [
     "challenges"
    ],
    "ein.tags": "worksheet-0",
    "slideshow": {
     "slide_type": "-"
    }
   },
   "source": [
    "1.  What is the value of `element[:4]`?\n",
    "    What about `element[4:]`?\n",
    "    Or `element[:]`?\n",
    "    \n",
    "\n",
    "1.  What is `element[-1]`?\n",
    "    What is `element[-2]`?\n",
    "    Given those answers,\n",
    "    explain what `element[1:-1]` does.\n",
    "\n",
    "1.  The expression `element[3:3]` produces an [empty string](./gloss.html#empty-string),\n",
    "    i.e., a string that contains no characters.\n",
    "    If `data` holds our array of patient data,\n",
    "    what does `data[3:3, 4:4]` produce?\"\n",
    "    empty list\n",
    "    \n",
    "    What about `data[3:3, :]`?\n",
    "    empty list"
   ]
  },
  {
   "cell_type": "code",
   "execution_count": 30,
   "metadata": {},
   "outputs": [
    {
     "name": "stdout",
     "output_type": "stream",
     "text": [
      "oxyg\n",
      "en\n",
      "oxygen\n",
      "n\n",
      "e\n",
      "xyge\n",
      "\n",
      "[]\n",
      "[]\n"
     ]
    }
   ],
   "source": [
    "print (element [:4])\n",
    "print (element [4:])\n",
    "print (element [:])\n",
    "print (element [-1])\n",
    "print (element [-2])\n",
    "print (element [1:-1])\n",
    "print (element [3:3])\n",
    "print (data [3:3, 4:4])\n",
    "print (data [3:3, :])"
   ]
  },
  {
   "cell_type": "markdown",
   "metadata": {
    "cell_tags": null,
    "ein.tags": "worksheet-0",
    "slideshow": {
     "slide_type": "-"
    }
   },
   "source": [
    "### Plotting"
   ]
  },
  {
   "cell_type": "markdown",
   "metadata": {
    "cell_tags": null,
    "ein.tags": "worksheet-0",
    "slideshow": {
     "slide_type": "-"
    }
   },
   "source": [
    "The mathematician Richard Hamming once said,\n",
    "\"The purpose of computing is insight, not numbers,\"\n",
    "and the best way to develop insight is often to visualize data.\n",
    "Visualization deserves an entire lecture (or course) of its own,\n",
    "but we can explore a few features of Python's `matplotlib` here.\n",
    "First,\n",
    "let's tell the IPython Notebook that we want our plots displayed inline,\n",
    "rather than in a separate viewing window:"
   ]
  },
  {
   "cell_type": "code",
   "execution_count": 33,
   "metadata": {},
   "outputs": [],
   "source": [
    "# remember to install the matplotlib\n",
    "import matplotlib"
   ]
  },
  {
   "cell_type": "code",
   "execution_count": 34,
   "metadata": {
    "autoscroll": false,
    "cell_tags": null,
    "ein.tags": "worksheet-0",
    "slideshow": {
     "slide_type": "-"
    }
   },
   "outputs": [
    {
     "name": "stderr",
     "output_type": "stream",
     "text": [
      "Fontconfig warning: ignoring UTF-8: not a valid region tag\n"
     ]
    }
   ],
   "source": [
    "%matplotlib inline"
   ]
  },
  {
   "cell_type": "markdown",
   "metadata": {
    "cell_tags": null,
    "ein.tags": "worksheet-0",
    "slideshow": {
     "slide_type": "-"
    }
   },
   "source": [
    "The `%` at the start of the line signals that this is a command for the notebook,\n",
    "rather than a statement in Python.\n",
    "Next,\n",
    "we will import the `pyplot` module from `matplotlib`\n",
    "and use two of its functions to create and display a heat map of our data:"
   ]
  },
  {
   "cell_type": "code",
   "execution_count": 35,
   "metadata": {
    "autoscroll": false,
    "cell_tags": null,
    "ein.tags": "worksheet-0",
    "slideshow": {
     "slide_type": "-"
    }
   },
   "outputs": [
    {
     "data": {
      "image/png": "[encoded data removed]",
      "text/plain": [
       "<Figure size 640x480 with 1 Axes>"
      ]
     },
     "metadata": {},
     "output_type": "display_data"
    }
   ],
   "source": [
    "from matplotlib import pyplot\n",
    "pyplot.imshow(data)\n",
    "pyplot.show()"
   ]
  },
  {
   "cell_type": "markdown",
   "metadata": {
    "cell_tags": null,
    "ein.tags": "worksheet-0",
    "slideshow": {
     "slide_type": "-"
    }
   },
   "source": [
    "Blue regions in this heat map are low values, while red shows high values.\n",
    "As we can see,\n",
    "inflammation rises and falls over a 40-day period.\n",
    "Let's take a look at the average inflammation over time:"
   ]
  },
  {
   "cell_type": "code",
   "execution_count": 38,
   "metadata": {
    "autoscroll": false,
    "cell_tags": null,
    "ein.tags": "worksheet-0",
    "slideshow": {
     "slide_type": "-"
    }
   },
   "outputs": [
    {
     "data": {
      "image/png": "[encoded data removed]",
      "text/plain": [
       "<Figure size 640x480 with 1 Axes>"
      ]
     },
     "metadata": {},
     "output_type": "display_data"
    }
   ],
   "source": [
    "ave_inflammation = data.mean(axis=0)\n",
    "pyplot.plot(ave_inflammation)\n",
    "pyplot.show()"
   ]
  },
  {
   "cell_type": "markdown",
   "metadata": {
    "cell_tags": null,
    "ein.tags": "worksheet-0",
    "slideshow": {
     "slide_type": "-"
    }
   },
   "source": [
    "Here,\n",
    "we have put the average per day across all patients in the variable `ave_inflammation`,\n",
    "then asked `pyplot` to create and display a line graph of those values.\n",
    "The result is roughly a linear rise and fall,\n",
    "which is suspicious:\n",
    "based on other studies,\n",
    "we expect a sharper rise and slower fall.\n",
    "Let's have a look at two other statistics:"
   ]
  },
  {
   "cell_type": "code",
   "execution_count": 39,
   "metadata": {
    "autoscroll": false,
    "cell_tags": null,
    "ein.tags": "worksheet-0",
    "slideshow": {
     "slide_type": "-"
    }
   },
   "outputs": [
    {
     "name": "stdout",
     "output_type": "stream",
     "text": [
      "maximum inflammation per day\n",
      "[ 0.  1.  2.  3.  4.  5.  6.  7.  8.  9. 10. 11. 12. 13. 14. 15. 16. 17.\n",
      " 18. 19. 20. 19. 18. 17. 16. 15. 14. 13. 12. 11. 10.  9.  8.  7.  6.  5.\n",
      "  4.  3.  2.  1.]\n"
     ]
    },
    {
     "data": {
      "image/png": "[encoded data removed]",
      "text/plain": [
       "<Figure size 640x480 with 1 Axes>"
      ]
     },
     "metadata": {},
     "output_type": "display_data"
    },
    {
     "name": "stdout",
     "output_type": "stream",
     "text": [
      "minimum inflammation per day\n",
      "[0. 0. 0. 0. 1. 1. 1. 1. 2. 2. 2. 2. 3. 3. 3. 3. 4. 5. 5. 5. 5. 4. 4. 4.\n",
      " 4. 3. 3. 3. 3. 2. 2. 2. 2. 1. 1. 1. 1. 0. 0. 0.]\n"
     ]
    },
    {
     "data": {
      "image/png": "[encoded data removed]",
      "text/plain": [
       "<Figure size 640x480 with 1 Axes>"
      ]
     },
     "metadata": {},
     "output_type": "display_data"
    }
   ],
   "source": [
    "print( 'maximum inflammation per day' )\n",
    "print (data.max(axis=0))\n",
    "pyplot.plot(data.max(axis=0))\n",
    "pyplot.show()\n",
    "\n",
    "print( 'minimum inflammation per day' )\n",
    "print (data.min(axis=0))\n",
    "pyplot.plot(data.min(axis=0))\n",
    "pyplot.show()"
   ]
  },
  {
   "cell_type": "markdown",
   "metadata": {
    "cell_tags": null,
    "ein.tags": "worksheet-0",
    "slideshow": {
     "slide_type": "-"
    }
   },
   "source": [
    "The maximum value rises and falls perfectly smoothly,\n",
    "while the minimum seems to be a step function.\n",
    "Neither result seems particularly likely,\n",
    "so either there's a mistake in our calculations\n",
    "or something is wrong with our data."
   ]
  },
  {
   "cell_type": "markdown",
   "metadata": {
    "cell_tags": [
     "challenges"
    ],
    "ein.tags": "worksheet-0",
    "slideshow": {
     "slide_type": "-"
    }
   },
   "source": [
    "#### Challenges\n",
    "\n",
    "1.  Why do all of our plots stop just short of the upper end of our graph?\n",
    "    Why are the vertical lines in our plot of the minimum inflammation per day not vertical?\n",
    "\n",
    "1.  Create a plot showing the standard deviation of the inflammation data for each day across all patients. (See https://docs.scipy.org/doc/numpy-1.13.0/reference/routines.statistics.html)"
   ]
  },
  {
   "cell_type": "code",
   "execution_count": 40,
   "metadata": {},
   "outputs": [
    {
     "name": "stdout",
     "output_type": "stream",
     "text": [
      "standard deviation of inflammation per day\n",
      "[0.         0.49749372 0.73238575 1.05869416 1.1308797  1.37628728\n",
      " 1.71075032 1.95014244 1.9267128  2.26194361 2.74119803 2.50798724\n",
      " 3.13488437 3.0922843  3.75040739 4.02285139 3.82226663 3.54008788\n",
      " 3.94701012 4.50120354 4.24116729 4.54960316 4.19907397 4.09945796\n",
      " 3.7103459  3.60863163 3.21364279 2.77863876 2.68121034 3.19526559\n",
      " 2.5157283  2.10890967 1.62369606 1.78138523 1.76351921 1.38283123\n",
      " 1.11790976 1.161895   0.8055364  0.49553562]\n"
     ]
    },
    {
     "data": {
      "image/png": "[encoded data removed]",
      "text/plain": [
       "<Figure size 640x480 with 1 Axes>"
      ]
     },
     "metadata": {},
     "output_type": "display_data"
    }
   ],
   "source": [
    "print( 'standard deviation of inflammation per day' )\n",
    "print (data.std(axis=0))\n",
    "pyplot.plot(data.std(axis=0))\n",
    "pyplot.show()"
   ]
  },
  {
   "cell_type": "markdown",
   "metadata": {
    "cell_tags": null,
    "ein.tags": "worksheet-0",
    "slideshow": {
     "slide_type": "-"
    }
   },
   "source": [
    "### Wrapping Up"
   ]
  },
  {
   "cell_type": "markdown",
   "metadata": {
    "cell_tags": null,
    "ein.tags": "worksheet-0",
    "slideshow": {
     "slide_type": "-"
    }
   },
   "source": [
    "It's very common to create an [alias](./gloss.html#alias) for a library when importing it\n",
    "in order to reduce the amount of typing we have to do.\n",
    "Here are our three plots side by side using aliases for `numpy` and `pyplot`:"
   ]
  },
  {
   "cell_type": "code",
   "execution_count": 41,
   "metadata": {
    "autoscroll": false,
    "cell_tags": null,
    "ein.tags": "worksheet-0",
    "slideshow": {
     "slide_type": "-"
    }
   },
   "outputs": [
    {
     "data": {
      "image/png": "[encoded data removed]",
      "text/plain": [
       "<Figure size 1000x300 with 3 Axes>"
      ]
     },
     "metadata": {},
     "output_type": "display_data"
    }
   ],
   "source": [
    "import numpy as np\n",
    "from matplotlib import pyplot as plt\n",
    "\n",
    "data = np.loadtxt(fname='inflammation-01.csv', delimiter=',')\n",
    "\n",
    "plt.figure(figsize=(10.0, 3.0))\n",
    "\n",
    "plt.subplot(1, 3, 1)\n",
    "plt.ylabel('average')\n",
    "plt.plot(data.mean(0))\n",
    "\n",
    "plt.subplot(1, 3, 2)\n",
    "plt.ylabel('max')\n",
    "plt.plot(data.max(0))\n",
    "\n",
    "plt.subplot(1, 3, 3)\n",
    "plt.ylabel('min')\n",
    "plt.plot(data.min(0))\n",
    "\n",
    "plt.tight_layout()\n",
    "plt.show()"
   ]
  },
  {
   "cell_type": "markdown",
   "metadata": {
    "cell_tags": null,
    "ein.tags": "worksheet-0",
    "slideshow": {
     "slide_type": "-"
    }
   },
   "source": [
    "The first two lines re-load our libraries as `np` and `plt`,\n",
    "which are the aliases most Python programmers use.\n",
    "The call to `loadtxt` reads our data,\n",
    "and the rest of the program tells the plotting library\n",
    "how large we want the figure to be,\n",
    "that we're creating three sub-plots,\n",
    "what to draw for each one,\n",
    "and that we want a tight layout.\n",
    "(Perversely,\n",
    "if we leave out that call to `plt.tight_layout()`,\n",
    "the graphs will actually be squeezed together more closely.)"
   ]
  },
  {
   "cell_type": "markdown",
   "metadata": {
    "cell_tags": [
     "challenges"
    ],
    "ein.tags": "worksheet-0",
    "slideshow": {
     "slide_type": "-"
    }
   },
   "source": [
    "#### Challenges\n",
    "\n",
    "1.  Modify the program to display the three plots on top of one another instead of side by side. Note: you can call pyplot.plot(...) several times before calling pyplot.show(). Also, if you give each plot a 'label' argument, you can call pyplot.legend() just before show() to get a legend"
   ]
  },
  {
   "cell_type": "code",
   "execution_count": 62,
   "metadata": {},
   "outputs": [
    {
     "data": {
      "image/png": "[encoded data removed]",
      "text/plain": [
       "<Figure size 640x480 with 1 Axes>"
      ]
     },
     "metadata": {},
     "output_type": "display_data"
    },
    {
     "data": {
      "image/png": "[encoded data removed]",
      "text/plain": [
       "<Figure size 640x480 with 1 Axes>"
      ]
     },
     "metadata": {},
     "output_type": "display_data"
    },
    {
     "data": {
      "image/png": "[encoded data removed]",
      "text/plain": [
       "<Figure size 640x480 with 1 Axes>"
      ]
     },
     "metadata": {},
     "output_type": "display_data"
    }
   ],
   "source": [
    "import numpy as np\n",
    "from matplotlib import pyplot as plt\n",
    "\n",
    "data = np.loadtxt(fname='inflammation-01.csv', delimiter=',')\n",
    "\n",
    "plt.plot(data.mean(0), label='average')\n",
    "plt.legend()\n",
    "plt.show()\n",
    "\n",
    "plt.plot(data.max(0), label='max', color='red')\n",
    "plt.legend()\n",
    "plt.show()\n",
    "\n",
    "plt.plot(data.min(0), label='min', color='green')\n",
    "plt.legend()\n",
    "plt.show()\n",
    "\n",
    "#plt.tight_layout()\n",
    "\n"
   ]
  },
  {
   "cell_type": "markdown",
   "metadata": {
    "cell_tags": [
     "keypoints"
    ],
    "ein.tags": "worksheet-0",
    "slideshow": {
     "slide_type": "-"
    }
   },
   "source": [
    "#### Key Points\n",
    "\n",
    "*   Import a library into a program using `import libraryname`.\n",
    "*   Use the `numpy` library to work with arrays in Python.\n",
    "*   Use `variable = value` to assign a value to a variable in order to record it in memory.\n",
    "*   Variables are created on demand whenever a value is assigned to them.\n",
    "*   Use `print something` to display the value of `something`.\n",
    "*   The expression `array.shape` gives the shape of an array.\n",
    "*   Use `array[x, y]` to select a single element from an array.\n",
    "*   Array indices start at 0, not 1.\n",
    "*   Use `low:high` to specify a slice that includes the indices from `low` to `high-1`.\n",
    "*   All the indexing and slicing that works on arrays also works on strings.\n",
    "*   Use `# some kind of explanation` to add comments to programs.\n",
    "*   Use `array.mean()`, `array.max()`, and `array.min()` to calculate simple statistics.\n",
    "*   Use `array.mean(axis=0)` or `array.mean(axis=1)` to calculate statistics across the specified axis.\n",
    "*   Use the `pyplot` library from `matplotlib` for creating simple visualizations."
   ]
  },
  {
   "cell_type": "code",
   "execution_count": null,
   "metadata": {
    "collapsed": true
   },
   "outputs": [],
   "source": []
  }
 ],
 "metadata": {
  "anaconda-cloud": {},
  "kernelspec": {
   "display_name": "Python 3 (ipykernel)",
   "language": "python",
   "name": "python3"
  },
  "language_info": {
   "codemirror_mode": {
    "name": "ipython",
    "version": 3
   },
   "file_extension": ".py",
   "mimetype": "text/x-python",
   "name": "python",
   "nbconvert_exporter": "python",
   "pygments_lexer": "ipython3",
   "version": "3.10.6"
  },
  "name": "01-numpy.ipynb"
 },
 "nbformat": 4,
 "nbformat_minor": 1
}

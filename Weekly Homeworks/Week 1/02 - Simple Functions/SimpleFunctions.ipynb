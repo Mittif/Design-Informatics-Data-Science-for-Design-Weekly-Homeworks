{
 "cells": [
  {
   "cell_type": "markdown",
   "metadata": {},
   "source": [
    "# Introduction to Functions\n",
    "\n",
    "*Functions* are an important concept in programming. The idea is that they take some code that gets used lots of times, and wrap it up so that you can re-use it. It's a bit like creating a small tool. Creating a function means that:\n",
    "\n",
    "- other people can use it, without having to do the same work\n",
    "- You can put time into making sure that it works, and then it'll keep on working\n",
    "\n",
    "You can put lots of functions together, to make more complex ones - its a bit like working with Lego.\n",
    "\n",
    "You've already used functions, as the Python language provides a lot of them.\n",
    "\n",
    "In this notebook we will:\n",
    "\n",
    "- look at some common functions, and how they are called\n",
    "- look at how you can create your own functions\n",
    "\n",
    "(We saw some of this in the introduction notebook, so this should be mostly a refresher)"
   ]
  },
  {
   "cell_type": "markdown",
   "metadata": {},
   "source": [
    "## Existing functions\n",
    "\n",
    "Python has lots of functions that do things for you. First one that we used is 'print'. This takes some input, and figures out a way to put it onto the screen:"
   ]
  },
  {
   "cell_type": "code",
   "execution_count": 1,
   "metadata": {},
   "outputs": [
    {
     "name": "stdout",
     "output_type": "stream",
     "text": [
      "Hello!\n"
     ]
    }
   ],
   "source": [
    "print(\"Hello!\")"
   ]
  },
  {
   "cell_type": "markdown",
   "metadata": {},
   "source": [
    "Another function we have used is `len`, which can give the length of a string, or a list:"
   ]
  },
  {
   "cell_type": "code",
   "execution_count": 2,
   "metadata": {},
   "outputs": [
    {
     "data": {
      "text/plain": [
       "3"
      ]
     },
     "execution_count": 2,
     "metadata": {},
     "output_type": "execute_result"
    }
   ],
   "source": [
    "len([1,4,5])"
   ]
  },
  {
   "cell_type": "code",
   "execution_count": 3,
   "metadata": {},
   "outputs": [
    {
     "data": {
      "text/plain": [
       "5"
      ]
     },
     "execution_count": 3,
     "metadata": {},
     "output_type": "execute_result"
    }
   ],
   "source": [
    "len(\"hello\")"
   ]
  },
  {
   "cell_type": "markdown",
   "metadata": {},
   "source": [
    "There's a list of python built in functions here - you won't need many of them: https://docs.python.org/3/library/functions.html"
   ]
  },
  {
   "cell_type": "markdown",
   "metadata": {},
   "source": [
    "### Function arguments\n",
    "\n",
    "Some of these functions take two \"arguments\" - that is, we have to give the function two things to work with. For example, in mathematics, we sometimes take one number and multiply it by itself a number of times - this is called the 'power' function. We can call it like this:"
   ]
  },
  {
   "cell_type": "code",
   "execution_count": 4,
   "metadata": {},
   "outputs": [
    {
     "data": {
      "text/plain": [
       "32"
      ]
     },
     "execution_count": 4,
     "metadata": {},
     "output_type": "execute_result"
    }
   ],
   "source": [
    "# Multiply 2 by itself 5 times, e.g. 2 * 2 * 2 * 2 * 2\n",
    "pow(2,5)"
   ]
  },
  {
   "cell_type": "markdown",
   "metadata": {},
   "source": [
    "This function has two arguments: the base number (2) and the number of times to multiply it (5). If you miss one of them off, it won't work:"
   ]
  },
  {
   "cell_type": "code",
   "execution_count": 5,
   "metadata": {},
   "outputs": [
    {
     "ename": "TypeError",
     "evalue": "pow() missing required argument 'exp' (pos 2)",
     "output_type": "error",
     "traceback": [
      "\u001b[0;31m---------------------------------------------------------------------------\u001b[0m",
      "\u001b[0;31mTypeError\u001b[0m                                 Traceback (most recent call last)",
      "Cell \u001b[0;32mIn [5], line 1\u001b[0m\n\u001b[0;32m----> 1\u001b[0m \u001b[38;5;28mpow\u001b[39m(\u001b[38;5;241m2\u001b[39m)\n",
      "\u001b[0;31mTypeError\u001b[0m: pow() missing required argument 'exp' (pos 2)"
     ]
    }
   ],
   "source": [
    "pow(2)"
   ]
  },
  {
   "cell_type": "markdown",
   "metadata": {},
   "source": [
    "Exercise:\n",
    "- explore what the pow() function does with some different numbers"
   ]
  },
  {
   "cell_type": "code",
   "execution_count": 1,
   "metadata": {},
   "outputs": [
    {
     "data": {
      "text/plain": [
       "1.1105342410545758"
      ]
     },
     "execution_count": 1,
     "metadata": {},
     "output_type": "execute_result"
    }
   ],
   "source": [
    "# What does the pow function do?\n",
    "pow(1.1,1.1)"
   ]
  },
  {
   "cell_type": "markdown",
   "metadata": {},
   "source": [
    "# More functions - Libraries\n",
    "\n",
    "There are lots and lots of functions that people might create. To make sense of them, functions are often organised into *libraries*. Each library does a certain task - for example, the `math` libary gives you lots of maths functions, the `random` library gives you lots of ways to work with random numbers. You'll find lots of them on the python library page (https://docs.python.org/3/library/) but there are many more that you can install. Here, we'll just look at how you can use *some* of the functions provided.\n",
    "\n",
    "## Importing\n",
    "To use a library you need to \"import\" it - this means you're telling Python that you want to use it. Python will then make sure that the libary is there, and get it ready for you to use.\n",
    "\n",
    "We'll start with the `random` libray - this has lots of ways to generate random numbers. Here are the docs: https://docs.python.org/3/library/random.html\n",
    "\n",
    "We'll pretend to flip a coin so that we can make a decision. The function `random.choice` looks good - from the docs:\n",
    "```\n",
    "random.choice(seq)\n",
    "Return a random element from the non-empty sequence seq\n",
    "```\n",
    "So - it's a function where we give it a sequence of things, and it will return one at random. There are two steps to doing this\n",
    "- import the library\n",
    "- call the function\n",
    "It looks like this:"
   ]
  },
  {
   "cell_type": "code",
   "execution_count": 2,
   "metadata": {},
   "outputs": [],
   "source": [
    "import random # Import the library - you only have to run this cell once"
   ]
  },
  {
   "cell_type": "code",
   "execution_count": 3,
   "metadata": {},
   "outputs": [
    {
     "data": {
      "text/plain": [
       "True"
      ]
     },
     "execution_count": 3,
     "metadata": {},
     "output_type": "execute_result"
    }
   ],
   "source": [
    "# Run this cell a few times times - you should get different answers\n",
    "random.choice([True,False]) # Choose between True for tails and False for heads"
   ]
  },
  {
   "cell_type": "code",
   "execution_count": 4,
   "metadata": {},
   "outputs": [
    {
     "data": {
      "text/plain": [
       "'down'"
      ]
     },
     "execution_count": 4,
     "metadata": {},
     "output_type": "execute_result"
    }
   ],
   "source": [
    "# Exercise: use the choice function to choose between left, right, up and down. \n",
    "# Hint: you can use a string for each direction\n",
    "random.choice([\"left\",\"righgt\",\"up\",\"down\"])"
   ]
  },
  {
   "cell_type": "code",
   "execution_count": 5,
   "metadata": {},
   "outputs": [
    {
     "data": {
      "text/plain": [
       "8"
      ]
     },
     "execution_count": 5,
     "metadata": {},
     "output_type": "execute_result"
    }
   ],
   "source": [
    "# Exercise: use the function `randrange` to generate from 1 to 10 \n",
    "# Hint - find it in the docs to see what it does\n",
    "# Hint - make sure it's really from 1 to 10, not just 1 to 9\n",
    "from random import randrange\n",
    "\n",
    "\n",
    "randrange(1,11)\n",
    "\n",
    "# Now get an *even* number from 1 to 10\n",
    "randrange(1,10,2)+1"
   ]
  },
  {
   "cell_type": "markdown",
   "metadata": {},
   "source": [
    "## ProTip: Other ways to import\n",
    "\n",
    "You'll often see the following two ways of importing things:\n",
    "- `import random as rn`. This is just like doing `import random`, but where you would write e.g. `random.randrange`, you write `rn.randrange`. You can replace `rn` with anything, so long as you are consistent. So you could write `import random as flying_elephant` if you're happy to keep writing `flying_elephant.randrange` every time you want to use the function. It's mostly used to make things shorter, and there are some common short names that people use - if you stick to those, it'll be easier to share code. Examples `import pandas as pd`, `import seaborn as sns`.\n",
    "- `from random import choice`. This is a bit different. Now, instead of writing `random.choice([True,False])` in your code, you can just write `choice([True,False])`. This makes your code shorter, but it's harder for someone else to figure out what `choice` means, or what library it belongs to. You can import lots of things this way, e.g. `from random import choice, randrange`."
   ]
  },
  {
   "cell_type": "code",
   "execution_count": 6,
   "metadata": {},
   "outputs": [
    {
     "data": {
      "text/plain": [
       "9"
      ]
     },
     "execution_count": 6,
     "metadata": {},
     "output_type": "execute_result"
    }
   ],
   "source": [
    "# Try some different ways of importing libraries and calling functions.\n",
    "import random as rd\n",
    "from random import randrange\n",
    "\n",
    "rd.randrange(1,10)\n",
    "\n",
    "randrange(1,10)"
   ]
  },
  {
   "cell_type": "markdown",
   "metadata": {},
   "source": [
    "# Functions on Objects\n",
    "\n",
    "Some functions 'belong' to objects. This is because they only make sense with that object - for example, it would make sense to ask a student what degree they are studying, but it wouldn't make sense to ask a horse what degree it was studying.\n",
    "\n",
    "In Python, this works by using a dot, so writing: `<object>.<function>`.\n",
    "\n",
    "This works whether it is stored in a variable or not. Here are some examples with strings:"
   ]
  },
  {
   "cell_type": "code",
   "execution_count": 7,
   "metadata": {},
   "outputs": [
    {
     "data": {
      "text/plain": [
       "True"
      ]
     },
     "execution_count": 7,
     "metadata": {},
     "output_type": "execute_result"
    }
   ],
   "source": [
    "# Find out if a string is upper or lower case\n",
    "\"hello\".islower()"
   ]
  },
  {
   "cell_type": "code",
   "execution_count": 8,
   "metadata": {},
   "outputs": [
    {
     "data": {
      "text/plain": [
       "True"
      ]
     },
     "execution_count": 8,
     "metadata": {},
     "output_type": "execute_result"
    }
   ],
   "source": [
    "my_word = 'hello'\n",
    "# Same thing, but we already have it in a variable\n",
    "my_word.islower()"
   ]
  },
  {
   "cell_type": "markdown",
   "metadata": {},
   "source": [
    "These functions can still have arguments:"
   ]
  },
  {
   "cell_type": "code",
   "execution_count": 9,
   "metadata": {},
   "outputs": [
    {
     "data": {
      "text/plain": [
       "True"
      ]
     },
     "execution_count": 9,
     "metadata": {},
     "output_type": "execute_result"
    }
   ],
   "source": [
    "my_word.startswith('hell')"
   ]
  },
  {
   "cell_type": "markdown",
   "metadata": {},
   "source": [
    "In order to use these functions, we have to make sure that we know what kind of thing we have - we can't call `startswith` on a number:"
   ]
  },
  {
   "cell_type": "code",
   "execution_count": 10,
   "metadata": {},
   "outputs": [
    {
     "ename": "AttributeError",
     "evalue": "'int' object has no attribute 'startswith'",
     "output_type": "error",
     "traceback": [
      "\u001b[0;31m---------------------------------------------------------------------------\u001b[0m",
      "\u001b[0;31mAttributeError\u001b[0m                            Traceback (most recent call last)",
      "Cell \u001b[0;32mIn [10], line 2\u001b[0m\n\u001b[1;32m      1\u001b[0m my_number \u001b[38;5;241m=\u001b[39m \u001b[38;5;241m3\u001b[39m\n\u001b[0;32m----> 2\u001b[0m my_number\u001b[38;5;241m.\u001b[39mstartswith(\u001b[38;5;124m\"\u001b[39m\u001b[38;5;124mhell\u001b[39m\u001b[38;5;124m\"\u001b[39m)\n",
      "\u001b[0;31mAttributeError\u001b[0m: 'int' object has no attribute 'startswith'"
     ]
    }
   ],
   "source": [
    "my_number = 3\n",
    "my_number.startswith(\"hell\")"
   ]
  },
  {
   "cell_type": "markdown",
   "metadata": {},
   "source": [
    "# Creating Functions\n",
    "\n",
    "Often, you want to create your own functions to do something - for example, you might have a particular data analysis to do, and you want to run it on every student in the class. You would create a function that does the analysis for one person, and then you could 'call' it for every person in the class.\n",
    "\n",
    "Creating functions use the word `def` for *define*. You give it the name of your function, and then tell it what arguments it needs. So if I was making a function created someone's full name from their given name and their family name, it would start like this:\n",
    "```\n",
    "def full_name( given_name, family_name )\n",
    "```\n",
    "\n",
    "This is saying \"I want to define a function called `full_name` that takes two arguments, called `given_name` and `family_name`.\n",
    "\n",
    "Once you've done that, you have to say what the function *does*. This means you write some code.\n",
    "\n",
    "At the end of the code you have a \"return\" statement - this says what we should get back from the function - in this case, we want the full name. The code is *indented* so that Python knows where the function starts and ends. The final function might look like this:"
   ]
  },
  {
   "cell_type": "code",
   "execution_count": 11,
   "metadata": {},
   "outputs": [],
   "source": [
    "def full_name(given_name,family_name):\n",
    "    fn = given_name + \" \" + family_name\n",
    "    return fn"
   ]
  },
  {
   "cell_type": "markdown",
   "metadata": {},
   "source": [
    "Now we can use this function:"
   ]
  },
  {
   "cell_type": "code",
   "execution_count": 12,
   "metadata": {},
   "outputs": [
    {
     "data": {
      "text/plain": [
       "'John Barnes'"
      ]
     },
     "execution_count": 12,
     "metadata": {},
     "output_type": "execute_result"
    }
   ],
   "source": [
    "full_name(\"John\",\"Barnes\")"
   ]
  },
  {
   "cell_type": "markdown",
   "metadata": {},
   "source": [
    "## Default arguments\n",
    "In some places, names might be written the other way around, with the family name first. We can add an argument to the function to deal with that:"
   ]
  },
  {
   "cell_type": "code",
   "execution_count": 13,
   "metadata": {},
   "outputs": [
    {
     "name": "stdout",
     "output_type": "stream",
     "text": [
      "John Barnes\n",
      "Barnes John\n"
     ]
    }
   ],
   "source": [
    "def full_name(given_name,family_name,given_first):\n",
    "    if given_first:\n",
    "        fn = given_name + \" \" + family_name\n",
    "    else:\n",
    "        fn = family_name + \" \" + given_name\n",
    "    return fn\n",
    "\n",
    "print(full_name(\"John\",\"Barnes\",True))\n",
    "print(full_name(\"John\",\"Barnes\",False))"
   ]
  },
  {
   "cell_type": "markdown",
   "metadata": {},
   "source": [
    "That might get a bit tedious to write, so we can give the argument a 'default value' - what does it do if you don't give it that argument. The function then looks like this:\n"
   ]
  },
  {
   "cell_type": "code",
   "execution_count": 14,
   "metadata": {},
   "outputs": [
    {
     "name": "stdout",
     "output_type": "stream",
     "text": [
      "John Barnes\n",
      "John Barnes\n",
      "Barnes John\n"
     ]
    }
   ],
   "source": [
    "def full_name(given_name,family_name,given_first=True): # Notice the =True at the end - this means given_first defaults to true.\n",
    "    if given_first:\n",
    "        fn = given_name + \" \" + family_name\n",
    "    else:\n",
    "        fn = family_name + \" \" + given_name\n",
    "    return fn\n",
    "\n",
    "print(full_name(\"John\",\"Barnes\",True))\n",
    "print(full_name(\"John\",\"Barnes\")) # Without specifying anything, defaults to True\n",
    "print(full_name(\"John\",\"Barnes\",False))"
   ]
  },
  {
   "cell_type": "markdown",
   "metadata": {},
   "source": [
    "Finally, you can call the functions with the names of the arguments. This is very useful\n",
    "- if there are lots of arguments, so you can see what each one is\n",
    "- if you have default arguments, and only want to give some of them.\n",
    "We can see this by extending the function to take another argument:"
   ]
  },
  {
   "cell_type": "code",
   "execution_count": 15,
   "metadata": {},
   "outputs": [
    {
     "name": "stdout",
     "output_type": "stream",
     "text": [
      "John Barnes\n",
      "John, Barnes\n",
      "Barnes, John\n"
     ]
    }
   ],
   "source": [
    "def full_name(given_name,family_name,given_first=True,in_between=\" \"): # Notice the =True at the end - this means given_first defaults to true.\n",
    "    if given_first:\n",
    "        fn = given_name + in_between + family_name\n",
    "    else:\n",
    "        fn = family_name + in_between + given_name\n",
    "    return fn\n",
    "\n",
    "print(full_name(\"John\",\"Barnes\",True))\n",
    "print(full_name(\"John\",\"Barnes\",in_between=\", \"))\n",
    "print(full_name(\"John\",\"Barnes\",in_between=\", \",given_first=False))"
   ]
  },
  {
   "cell_type": "markdown",
   "metadata": {},
   "source": [
    "# Exercises\n",
    "\n",
    "- Create a function that takes a word, and returns a random letter from it. To do this:\n",
    "    - Figure out how long the word is (Hint: len() gives you the length of a string\n",
    "    - Generate a random number between 0 and the length of the word\n",
    "    - Use the square brackets to get the right letter from the word - for example, \"dog\"[0] is \"d\", and \"dog[2]\" is \"g\"\n",
    "    \n",
    "Check your function to make sure it works with long words and with short ones.\n",
    "\n",
    "ProTip - if you were doing this for real, you could just give your word to `random.choice` - it will give you a random element from any sequence, and a string is a sequence of letters. But have a go at writing the function anyway."
   ]
  },
  {
   "cell_type": "code",
   "execution_count": 16,
   "metadata": {},
   "outputs": [
    {
     "name": "stdout",
     "output_type": "stream",
     "text": [
      "salad\n",
      "a\n"
     ]
    }
   ],
   "source": [
    "import random\n",
    "import sys\n",
    "\n",
    "def if_word_input_valid(input):\n",
    "    if input.isalpha():\n",
    "        return input\n",
    "    else:\n",
    "        print (\"Invalid Inpuut!\")\n",
    "        sys.exit()\n",
    "\n",
    "def random_letter(word):\n",
    "    #print(word[random.randint(0,len(word)-1)])\n",
    "    # A more simple way\n",
    "    print(random.choice(word))\n",
    "    \n",
    "def main():\n",
    "    word = if_word_input_valid(input())\n",
    "    random_letter(word)\n",
    "\n",
    "main()\n"
   ]
  },
  {
   "cell_type": "code",
   "execution_count": null,
   "metadata": {},
   "outputs": [],
   "source": []
  }
 ],
 "metadata": {
  "kernelspec": {
   "display_name": "Python 3 (ipykernel)",
   "language": "python",
   "name": "python3"
  },
  "language_info": {
   "codemirror_mode": {
    "name": "ipython",
    "version": 3
   },
   "file_extension": ".py",
   "mimetype": "text/x-python",
   "name": "python",
   "nbconvert_exporter": "python",
   "pygments_lexer": "ipython3",
   "version": "3.10.6"
  },
  "vscode": {
   "interpreter": {
    "hash": "b0fa6594d8f4cbf19f97940f81e996739fb7646882a419484c72d19e05852a7e"
   }
  }
 },
 "nbformat": 4,
 "nbformat_minor": 4
}
